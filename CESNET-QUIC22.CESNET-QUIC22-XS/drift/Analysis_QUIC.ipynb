{
 "cells": [
  {
   "cell_type": "markdown",
   "metadata": {},
   "source": [
    "## Workflow of drift analysis\n",
    "### QUIC Dataset"
   ]
  },
  {
   "cell_type": "code",
   "execution_count": 48,
   "metadata": {},
   "outputs": [],
   "source": [
    "import pandas as pd\n",
    "import numpy as np\n",
    "import matplotlib.pyplot as plt\n",
    "from cesnet_datazoo.datasets import CESNET_TLS_Year22, CESNET_QUIC22\n",
    "from cesnet_datazoo.config import DatasetConfig, AppSelection\n",
    "from datetime import datetime, timedelta\n",
    "\n",
    "\n",
    "from xgboost import XGBClassifier\n",
    "import sklearn.metrics as metrics\n",
    "from sklearn.ensemble import HistGradientBoostingClassifier\n",
    "from sklearn.metrics import classification_report,confusion_matrix,f1_score\n",
    "from sklearn.model_selection import train_test_split\n",
    "from copy import deepcopy\n",
    "\n",
    "from scipy import stats\n",
    "from joblib import dump, load\n",
    "\n",
    "import warnings\n",
    "warnings.filterwarnings('ignore') "
   ]
  },
  {
   "cell_type": "markdown",
   "metadata": {},
   "source": [
    "Create reference classifier from the first week of data"
   ]
  },
  {
   "cell_type": "code",
   "execution_count": 49,
   "metadata": {},
   "outputs": [
    {
     "name": "stdout",
     "output_type": "stream",
     "text": [
      "Loading data from dataloader\n"
     ]
    },
    {
     "name": "stderr",
     "output_type": "stream",
     "text": [
      "100%|██████████| 105/105 [00:01<00:00, 58.60it/s]\n"
     ]
    },
    {
     "name": "stdout",
     "output_type": "stream",
     "text": [
      "Loading data from dataloader\n"
     ]
    },
    {
     "name": "stderr",
     "output_type": "stream",
     "text": [
      "100%|██████████| 105/105 [00:01<00:00, 61.64it/s]\n"
     ]
    },
    {
     "name": "stdout",
     "output_type": "stream",
     "text": [
      "Loading data from dataloader\n"
     ]
    },
    {
     "name": "stderr",
     "output_type": "stream",
     "text": [
      "100%|██████████| 213/213 [00:03<00:00, 66.10it/s]\n"
     ]
    },
    {
     "name": "stdout",
     "output_type": "stream",
     "text": [
      "Loading data from dataloader\n"
     ]
    },
    {
     "name": "stderr",
     "output_type": "stream",
     "text": [
      "100%|██████████| 212/212 [00:03<00:00, 58.34it/s]\n"
     ]
    },
    {
     "name": "stdout",
     "output_type": "stream",
     "text": [
      "Loading data from dataloader\n"
     ]
    },
    {
     "name": "stderr",
     "output_type": "stream",
     "text": [
      "100%|██████████| 165/165 [00:02<00:00, 58.85it/s]\n"
     ]
    },
    {
     "name": "stdout",
     "output_type": "stream",
     "text": [
      "Loading data from dataloader\n"
     ]
    },
    {
     "name": "stderr",
     "output_type": "stream",
     "text": [
      "100%|██████████| 72/72 [00:01<00:00, 52.11it/s]\n"
     ]
    },
    {
     "name": "stdout",
     "output_type": "stream",
     "text": [
      "Loading data from dataloader\n"
     ]
    },
    {
     "name": "stderr",
     "output_type": "stream",
     "text": [
      "100%|██████████| 87/87 [00:01<00:00, 58.23it/s]\n"
     ]
    },
    {
     "name": "stdout",
     "output_type": "stream",
     "text": [
      "F1 Score: 0.849924739648822\n"
     ]
    }
   ],
   "source": [
    "data = CESNET_QUIC22(\"/home/dosoukup/Dataset/QUIC\", size=\"XS\")\n",
    "common_params = {\n",
    "    \"dataset\": data,\n",
    "    \"train_period_name\": \"W-2022-44\",\n",
    "    \"apps_selection\": AppSelection.ALL_KNOWN,\n",
    "    \"use_packet_histograms\": True,\n",
    "}\n",
    "\n",
    "hist_df = pd.DataFrame()\n",
    "current_date = datetime(2022, 10, 31)\n",
    "while current_date <= datetime(2022, 11, 6):\n",
    "    dataset_config = DatasetConfig(**common_params, test_period_name=current_date.strftime(\"M-%Y-%m\"), test_dates=[current_date.strftime(\"%Y%m%d\")])\n",
    "    data.set_dataset_config_and_initialize(dataset_config)\n",
    "    curr_df = data.get_test_df(flatten_ppi=True)\n",
    "    curr_sample = curr_df.sample(25000, random_state = 42, replace=True)\n",
    "    curr_sample[\"date\"] = current_date\n",
    "    hist_df = pd.concat([hist_df,curr_sample])\n",
    "    current_date += timedelta(days=1)\n",
    "\n",
    "Xdata = hist_df.drop(columns=[\"APP\",\"date\"])\n",
    "ydata = hist_df.APP\n",
    "X_train, X_test, y_train, y_test = train_test_split(Xdata, ydata, test_size=0.33, random_state=42)\n",
    "\n",
    "ref_clf = XGBClassifier().fit(X_train, y_train)\n",
    "y_pred = ref_clf.predict(X_test)\n",
    "\n",
    "print(f\"F1 Score: {f1_score(y_test, y_pred, average = 'weighted')}\")"
   ]
  },
  {
   "cell_type": "code",
   "execution_count": 53,
   "metadata": {},
   "outputs": [
    {
     "name": "stdout",
     "output_type": "stream",
     "text": [
      "Loading data from dataloader\n"
     ]
    },
    {
     "name": "stderr",
     "output_type": "stream",
     "text": [
      "\n",
      "  0%|          | 0/238 [00:00<?, ?it/s]\u001b[A\n",
      "  0%|          | 1/238 [00:00<00:29,  7.90it/s]\u001b[A\n",
      "  3%|▎         | 8/238 [00:00<00:05, 40.34it/s]\u001b[A\n",
      "  7%|▋         | 16/238 [00:00<00:03, 56.25it/s]\u001b[A\n",
      " 11%|█         | 25/238 [00:00<00:03, 66.84it/s]\u001b[A\n",
      " 14%|█▍        | 34/238 [00:00<00:02, 72.64it/s]\u001b[A\n",
      " 18%|█▊        | 43/238 [00:00<00:02, 75.58it/s]\u001b[A\n",
      " 21%|██▏       | 51/238 [00:00<00:02, 76.68it/s]\u001b[A\n",
      " 25%|██▍       | 59/238 [00:00<00:02, 77.33it/s]\u001b[A\n",
      " 29%|██▊       | 68/238 [00:00<00:02, 78.19it/s]\u001b[A\n",
      " 32%|███▏      | 76/238 [00:01<00:02, 78.66it/s]\u001b[A\n",
      " 36%|███▌      | 85/238 [00:01<00:01, 79.37it/s]\u001b[A\n",
      " 39%|███▉      | 94/238 [00:01<00:01, 79.74it/s]\u001b[A\n",
      " 43%|████▎     | 102/238 [00:01<00:01, 79.62it/s]\u001b[A\n",
      " 47%|████▋     | 111/238 [00:01<00:01, 79.80it/s]\u001b[A\n",
      " 50%|█████     | 120/238 [00:01<00:01, 80.29it/s]\u001b[A\n",
      " 54%|█████▍    | 129/238 [00:01<00:01, 80.70it/s]\u001b[A\n",
      " 58%|█████▊    | 138/238 [00:01<00:01, 80.78it/s]\u001b[A\n",
      " 62%|██████▏   | 147/238 [00:01<00:01, 80.22it/s]\u001b[A\n",
      " 66%|██████▌   | 156/238 [00:02<00:01, 79.14it/s]\u001b[A\n",
      " 69%|██████▉   | 164/238 [00:02<00:00, 78.66it/s]\u001b[A\n",
      " 72%|███████▏  | 172/238 [00:02<00:00, 78.75it/s]\u001b[A\n",
      " 76%|███████▌  | 181/238 [00:02<00:00, 79.70it/s]\u001b[A\n",
      " 80%|███████▉  | 190/238 [00:02<00:00, 80.37it/s]\u001b[A\n",
      " 84%|████████▎ | 199/238 [00:02<00:00, 81.44it/s]\u001b[A\n",
      " 87%|████████▋ | 208/238 [00:02<00:00, 81.69it/s]\u001b[A\n",
      " 91%|█████████ | 217/238 [00:02<00:00, 82.27it/s]\u001b[A\n",
      " 95%|█████████▍| 226/238 [00:02<00:00, 82.67it/s]\u001b[A\n",
      "100%|██████████| 238/238 [00:03<00:00, 75.37it/s]\u001b[A\n"
     ]
    },
    {
     "name": "stdout",
     "output_type": "stream",
     "text": [
      "day lenght 486527 2022-11-07 00:00:00\n"
     ]
    },
    {
     "name": "stderr",
     "output_type": "stream",
     "text": [
      " 13%|█▎        | 339M/2.53G [09:16<1:01:33, 639kB/s]\n"
     ]
    },
    {
     "name": "stdout",
     "output_type": "stream",
     "text": [
      "Loading data from dataloader\n"
     ]
    },
    {
     "name": "stderr",
     "output_type": "stream",
     "text": [
      "100%|██████████| 242/242 [00:03<00:00, 75.78it/s]\n"
     ]
    },
    {
     "name": "stdout",
     "output_type": "stream",
     "text": [
      "day lenght 495511 2022-11-08 00:00:00\n",
      "Loading data from dataloader\n"
     ]
    },
    {
     "name": "stderr",
     "output_type": "stream",
     "text": [
      "100%|██████████| 236/236 [00:03<00:00, 75.33it/s]\n"
     ]
    },
    {
     "name": "stdout",
     "output_type": "stream",
     "text": [
      "day lenght 482877 2022-11-09 00:00:00\n",
      "Loading data from dataloader\n"
     ]
    },
    {
     "name": "stderr",
     "output_type": "stream",
     "text": [
      "100%|██████████| 218/218 [00:02<00:00, 75.45it/s]\n"
     ]
    },
    {
     "name": "stdout",
     "output_type": "stream",
     "text": [
      "day lenght 444706 2022-11-10 00:00:00\n",
      "Loading data from dataloader\n"
     ]
    },
    {
     "name": "stderr",
     "output_type": "stream",
     "text": [
      "100%|██████████| 159/159 [00:02<00:00, 72.25it/s]\n"
     ]
    },
    {
     "name": "stdout",
     "output_type": "stream",
     "text": [
      "day lenght 324765 2022-11-11 00:00:00\n",
      "Loading data from dataloader\n"
     ]
    },
    {
     "name": "stderr",
     "output_type": "stream",
     "text": [
      "100%|██████████| 70/70 [00:01<00:00, 65.28it/s]\n"
     ]
    },
    {
     "name": "stdout",
     "output_type": "stream",
     "text": [
      "day lenght 141354 2022-11-12 00:00:00\n",
      "Drift detected, retraining\n",
      "An error occurred: 'DataFrame' object has no attribute 'encoded'\n",
      "2022-11-12 00:00:00 missing from the dataset\n",
      "Loading data from dataloader\n"
     ]
    },
    {
     "name": "stderr",
     "output_type": "stream",
     "text": [
      "100%|██████████| 87/87 [00:01<00:00, 65.11it/s]\n"
     ]
    },
    {
     "name": "stdout",
     "output_type": "stream",
     "text": [
      "day lenght 176161 2022-11-13 00:00:00\n",
      "Loading data from dataloader\n"
     ]
    },
    {
     "name": "stderr",
     "output_type": "stream",
     "text": [
      "100%|██████████| 236/236 [00:03<00:00, 70.54it/s]\n"
     ]
    },
    {
     "name": "stdout",
     "output_type": "stream",
     "text": [
      "day lenght 481511 2022-11-14 00:00:00\n",
      "Loading data from dataloader\n"
     ]
    },
    {
     "name": "stderr",
     "output_type": "stream",
     "text": [
      "100%|██████████| 235/235 [00:03<00:00, 72.60it/s]\n"
     ]
    },
    {
     "name": "stdout",
     "output_type": "stream",
     "text": [
      "day lenght 480095 2022-11-15 00:00:00\n",
      "Loading data from dataloader\n"
     ]
    },
    {
     "name": "stderr",
     "output_type": "stream",
     "text": [
      "100%|██████████| 193/193 [00:02<00:00, 73.85it/s]\n"
     ]
    },
    {
     "name": "stdout",
     "output_type": "stream",
     "text": [
      "day lenght 394328 2022-11-16 00:00:00\n",
      "Loading data from dataloader\n"
     ]
    },
    {
     "name": "stderr",
     "output_type": "stream",
     "text": [
      "100%|██████████| 79/79 [00:01<00:00, 65.34it/s]\n"
     ]
    },
    {
     "name": "stdout",
     "output_type": "stream",
     "text": [
      "day lenght 160155 2022-11-17 00:00:00\n",
      "Loading data from dataloader\n"
     ]
    },
    {
     "name": "stderr",
     "output_type": "stream",
     "text": [
      "100%|██████████| 106/106 [00:01<00:00, 70.36it/s]\n"
     ]
    },
    {
     "name": "stdout",
     "output_type": "stream",
     "text": [
      "day lenght 215866 2022-11-18 00:00:00\n",
      "Loading data from dataloader\n"
     ]
    },
    {
     "name": "stderr",
     "output_type": "stream",
     "text": [
      "100%|██████████| 60/60 [00:00<00:00, 63.58it/s]\n"
     ]
    },
    {
     "name": "stdout",
     "output_type": "stream",
     "text": [
      "day lenght 122008 2022-11-19 00:00:00\n",
      "Loading data from dataloader\n"
     ]
    },
    {
     "name": "stderr",
     "output_type": "stream",
     "text": [
      "100%|██████████| 80/80 [00:01<00:00, 66.25it/s]\n"
     ]
    },
    {
     "name": "stdout",
     "output_type": "stream",
     "text": [
      "day lenght 162770 2022-11-20 00:00:00\n",
      "Loading data from dataloader\n"
     ]
    },
    {
     "name": "stderr",
     "output_type": "stream",
     "text": [
      "100%|██████████| 242/242 [00:03<00:00, 75.60it/s]\n"
     ]
    },
    {
     "name": "stdout",
     "output_type": "stream",
     "text": [
      "day lenght 494697 2022-11-21 00:00:00\n",
      "Loading data from dataloader\n"
     ]
    },
    {
     "name": "stderr",
     "output_type": "stream",
     "text": [
      "100%|██████████| 251/251 [00:03<00:00, 75.21it/s]\n"
     ]
    },
    {
     "name": "stdout",
     "output_type": "stream",
     "text": [
      "day lenght 513668 2022-11-22 00:00:00\n",
      "Loading data from dataloader\n"
     ]
    },
    {
     "name": "stderr",
     "output_type": "stream",
     "text": [
      "100%|██████████| 250/250 [00:03<00:00, 76.22it/s]\n"
     ]
    },
    {
     "name": "stdout",
     "output_type": "stream",
     "text": [
      "day lenght 510465 2022-11-23 00:00:00\n",
      "Loading data from dataloader\n"
     ]
    },
    {
     "name": "stderr",
     "output_type": "stream",
     "text": [
      "100%|██████████| 225/225 [00:02<00:00, 76.03it/s]\n"
     ]
    },
    {
     "name": "stdout",
     "output_type": "stream",
     "text": [
      "day lenght 460114 2022-11-24 00:00:00\n",
      "Loading data from dataloader\n"
     ]
    },
    {
     "name": "stderr",
     "output_type": "stream",
     "text": [
      "100%|██████████| 162/162 [00:02<00:00, 72.26it/s]\n"
     ]
    },
    {
     "name": "stdout",
     "output_type": "stream",
     "text": [
      "day lenght 331122 2022-11-25 00:00:00\n",
      "Loading data from dataloader\n"
     ]
    },
    {
     "name": "stderr",
     "output_type": "stream",
     "text": [
      "100%|██████████| 73/73 [00:01<00:00, 65.24it/s]\n"
     ]
    },
    {
     "name": "stdout",
     "output_type": "stream",
     "text": [
      "day lenght 147510 2022-11-26 00:00:00\n",
      "Loading data from dataloader\n"
     ]
    },
    {
     "name": "stderr",
     "output_type": "stream",
     "text": [
      "100%|██████████| 89/89 [00:01<00:00, 67.69it/s]\n"
     ]
    },
    {
     "name": "stdout",
     "output_type": "stream",
     "text": [
      "day lenght 181865 2022-11-27 00:00:00\n"
     ]
    }
   ],
   "source": [
    "from detector.detector import DriftDetector, Config\n",
    "from detector.logger import Logger\n",
    "from detector.test import KSTest, WassersteinTest\n",
    "from detector.analyser import LastWeekAnalyser\n",
    "\n",
    "feat_names = [col for col in ref_clf.feature_names_in_ if \"FLOW_\" not in col and  \"week\" not in col]\n",
    "\n",
    "global_config = Config(\n",
    "    chosen_features = feat_names,\n",
    "    # Note: comment the line below if no feature importances are needed\n",
    "    feature_importances = pd.Series(ref_clf.feature_importances_,index = ref_clf.feature_names_in_),\n",
    "    drift_test=WassersteinTest(drift_threshold_global=0.04,drift_threshold_single = 0.1)\n",
    ")\n",
    "\n",
    "class_config = Config(\n",
    "    chosen_features = feat_names,\n",
    "    # Note: comment the line below if no feature importances are needed\n",
    "    feature_importances = pd.Series(ref_clf.feature_importances_,index = ref_clf.feature_names_in_),\n",
    "    drift_test=KSTest(drift_threshold_global=0.475,drift_threshold_single = 0.05),\n",
    "    class_name=\"APP\"\n",
    ")\n",
    "\n",
    "analyser_config = Config(\n",
    "    chosen_features = feat_names,\n",
    "    # Note: comment the line below if no feature importances are needed\n",
    "    feature_importances = pd.Series(ref_clf.feature_importances_,index = ref_clf.feature_names_in_),\n",
    "    drift_test=WassersteinTest(drift_threshold_global=0.04)\n",
    ")\n",
    "\n",
    "#Logger of the single reference model without retraining\n",
    "logger_ref = Logger(\"Reference model trained on week 1 with no retraining\")\n",
    "analyser_ref = LastWeekAnalyser(analyser_config)\n",
    "detector_ref = DriftDetector(global_config, class_config, logger=logger_ref, analyser=analyser_ref)\n",
    "\n",
    "#Loggers for the retrained models\n",
    "logger_drift = Logger(\"Retraining model\")\n",
    "analyser_drift = LastWeekAnalyser(analyser_config)\n",
    "detector_drift = DriftDetector(global_config, class_config, logger=logger_drift, analyser=analyser_drift)\n",
    "\n",
    "test_data = CESNET_QUIC22(\"/home/dosoukup/Dataset/QUIC\", size=\"XS\")\n",
    "common_params = {\n",
    "    \"dataset\": test_data,\n",
    "    \"train_period_name\": \"W-2022-44\",\n",
    "    \"use_packet_histograms\": True,\n",
    "}\n",
    "\n",
    "retraining_clf = ref_clf\n",
    "old_clf = None\n",
    "\n",
    "ref_df = hist_df.copy()\n",
    "\n",
    "current_date = datetime(2022, 11, 7)\n",
    "while current_date <= datetime(2022, 11, 27):\n",
    "    try:\n",
    "        #Get current data\n",
    "        dataset_config = DatasetConfig(**common_params, test_period_name=current_date.strftime(\"M-%Y-%m\"), test_dates=[current_date.strftime(\"%Y%m%d\")])\n",
    "        test_data.set_dataset_config_and_initialize(dataset_config)\n",
    "        test_df = test_data.get_test_df(flatten_ppi=True)\n",
    "        # Uncomment for Nettisa features\n",
    "        #test_df = test_data.get_test_df()\n",
    "        # Uncomment for Nettisa features\n",
    "        #test_df = ntc.update_df_with_nettisa_features(test_df)\n",
    "\n",
    "        print(\"day lenght\",len(test_df),current_date)\n",
    "        if len(test_df) > 25000:\n",
    "            test_df = test_df.sample(25000, random_state = 42)\n",
    "\n",
    "        #Test model with no retraining\n",
    "        Xdata = test_df.drop(columns=[\"APP\"])\n",
    "        ydata = test_df.APP\n",
    "        \n",
    "        y_pred_ref = ref_clf.predict(Xdata)   \n",
    "        detector_ref.detect(ref_df,test_df,current_date,y_pred_ref)\n",
    "\n",
    "        #Test retraining model\n",
    "        y_pred = retraining_clf.predict(Xdata)\n",
    "        \n",
    "        is_drifted = detector_drift.detect(hist_df,test_df,current_date,y_pred)\n",
    "\n",
    "        #Retrain the model if drift was detected\n",
    "        if is_drifted:\n",
    "            print(\"Drift detected, retraining\")\n",
    "\n",
    "            #Update training dataset\n",
    "            hist_df = hist_df.tail(len(hist_df)-len(test_df))\n",
    "            test_df[\"date\"] = current_date\n",
    "            hist_df = pd.concat([hist_df,test_df])\n",
    "            Xdata = hist_df.drop(columns=[\"APP\",\"date\"])\n",
    "            ydata = hist_df.encoded\n",
    "            retraining_clf = XGBClassifier().fit(Xdata, ydata)\n",
    "\n",
    "    except Exception as error:\n",
    "        print(\"An error occurred:\", error)\n",
    "        print(f\"{current_date} missing from the dataset\")\n",
    "    current_date += timedelta(days=1)"
   ]
  },
  {
   "cell_type": "markdown",
   "metadata": {},
   "source": [
    "# Save experiment result"
   ]
  },
  {
   "cell_type": "code",
   "execution_count": 54,
   "metadata": {},
   "outputs": [],
   "source": [
    "import pickle\n",
    "with open('logs_cesnet_quic_22_xs.pkl', 'wb') as outp:\n",
    "    pickle.dump(logger_drift, outp, pickle.HIGHEST_PROTOCOL)\n",
    "    pickle.dump(logger_ref, outp, pickle.HIGHEST_PROTOCOL)"
   ]
  },
  {
   "cell_type": "code",
   "execution_count": null,
   "metadata": {},
   "outputs": [],
   "source": []
  }
 ],
 "metadata": {
  "kernelspec": {
   "display_name": "Python 3 (ipykernel)",
   "language": "python",
   "name": "python3"
  },
  "language_info": {
   "codemirror_mode": {
    "name": "ipython",
    "version": 3
   },
   "file_extension": ".py",
   "mimetype": "text/x-python",
   "name": "python",
   "nbconvert_exporter": "python",
   "pygments_lexer": "ipython3",
   "version": "3.11.5"
  }
 },
 "nbformat": 4,
 "nbformat_minor": 4
}
