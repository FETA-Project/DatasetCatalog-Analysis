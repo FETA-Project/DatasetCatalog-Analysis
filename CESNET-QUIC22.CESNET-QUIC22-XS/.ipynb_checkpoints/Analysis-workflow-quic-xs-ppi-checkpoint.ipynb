{
 "cells": [
  {
   "cell_type": "markdown",
   "metadata": {},
   "source": [
    "## In development - Workflow of drift analysis"
   ]
  },
  {
   "cell_type": "code",
   "execution_count": null,
   "metadata": {},
   "outputs": [],
   "source": [
    "import pandas as pd\n",
    "import numpy as np\n",
    "import matplotlib.pyplot as plt\n",
    "from cesnet_datazoo.datasets import CESNET_QUIC22\n",
    "from cesnet_datazoo.config import DatasetConfig, AppSelection\n",
    "from datetime import datetime, timedelta\n",
    "\n",
    "from xgboost import XGBClassifier\n",
    "import sklearn.metrics as metrics\n",
    "from sklearn.ensemble import HistGradientBoostingClassifier\n",
    "from sklearn.metrics import classification_report,confusion_matrix,f1_score\n",
    "from sklearn.model_selection import train_test_split\n",
    "from copy import deepcopy....\n",
    "\n",
    "from scipy import stats\n",
    "from joblib import dump, load\n",
    "\n",
    "import warnings\n",
    "warnings.filterwarnings('ignore') \n",
    "\n",
    "pd.set_option('display.max_columns', 500)\n",
    "pd.set_option('display.max_rows', 500)"
   ]
  },
  {
   "cell_type": "code",
   "execution_count": 5,
   "metadata": {},
   "outputs": [],
   "source": [
    "import pandas as pd\n",
    "import numpy as np\n",
    "import matplotlib.pyplot as plt\n",
    "from cesnet_datazoo.datasets import CESNET_QUIC22\n",
    "from cesnet_datazoo.config import DatasetConfig, AppSelection\n",
    "from datetime import datetime, timedelta\n",
    "\n",
    "from xgboost import XGBClassifier\n",
    "import sklearn.metrics as metrics\n",
    "from sklearn.ensemble import HistGradientBoostingClassifier\n",
    "from sklearn.metrics import classification_report,confusion_matrix,f1_score\n",
    "from sklearn.model_selection import train_test_split\n",
    "from copy import deepcopy\n",
    "\n",
    "from scipy import stats\n",
    "from joblib import dump, load\n",
    "\n",
    "import warnings\n",
    "warnings.filterwarnings('ignore') \n",
    "\n",
    "pd.set_option('display.max_columns', 500)\n",
    "pd.set_option('display.max_rows', 500)"
   ]
  },
  {
   "cell_type": "markdown",
   "metadata": {},
   "source": [
    "# Support functions"
   ]
  },
  {
   "cell_type": "code",
   "execution_count": 4,
   "metadata": {},
   "outputs": [],
   "source": [
    "ks_drift_threshold_single = 0.04\n",
    "ks_drift_threshold_global = 0.475\n",
    "ws_drift_threshold_single = 0.1\n",
    "ws_drift_threshold_global = 0.04\n",
    "\n",
    "def ws_feature_drifted(metric):\n",
    "    return metric > ws_drift_threshold_single\n",
    "\n",
    "def ws_sample_drifted(metric):\n",
    "    return metric > ws_drift_threshold_global\n",
    "\n",
    "def ks_sample_drifted(metric):\n",
    "    return metric < ks_drift_threshold_global\n",
    "\n",
    "def ks_feature_drifted(metric):\n",
    "    return metric < ks_drift_threshold_single"
   ]
  },
  {
   "cell_type": "code",
   "execution_count": null,
   "metadata": {},
   "outputs": [],
   "source": []
  },
  {
   "cell_type": "code",
   "execution_count": 5,
   "metadata": {},
   "outputs": [],
   "source": [
    "from pprint import pprint \n",
    "\n",
    "def get_top_drifted_class(logger_data):\n",
    "    tmp_data = logger_data.get_logs(log_type=\"class\").apply(ks_sample_drifted).rename(columns=mapping)\n",
    "    tmp_max = []\n",
    "    for c in tmp_data.columns:\n",
    "        try:\n",
    "            tmp_max.append({\"class\":c,\"true_drift\":tmp_data[c].value_counts()[True]})\n",
    "        except Exception as e:\n",
    "            tmp_max.append({\"class\":c,\"true_drift\": 0})\n",
    "    return tmp_max\n",
    "\n",
    "def get_top_drifted_feature(logger_data):\n",
    "    tmp_data = logger_data.get_logs(log_type=\"feature\").apply(ws_feature_drifted)\n",
    "    tmp_max = []\n",
    "    for c in tmp_data.columns:\n",
    "        try:\n",
    "            tmp_max.append({\"feature\":c,\"true_drift\":tmp_data[c].value_counts()[True]})\n",
    "        except Exception as e:\n",
    "            tmp_max.append({\"feature\":c,\"true_drift\": 0})\n",
    "    return tmp_max"
   ]
  },
  {
   "cell_type": "markdown",
   "metadata": {},
   "source": [
    "# Visualise global experiment result"
   ]
  },
  {
   "cell_type": "code",
   "execution_count": 10,
   "metadata": {},
   "outputs": [
    {
     "ename": "ModuleNotFoundError",
     "evalue": "No module named 'detector'",
     "output_type": "error",
     "traceback": [
      "\u001b[0;31m---------------------------------------------------------------------------\u001b[0m",
      "\u001b[0;31mModuleNotFoundError\u001b[0m                       Traceback (most recent call last)",
      "Cell \u001b[0;32mIn[10], line 1\u001b[0m\n\u001b[0;32m----> 1\u001b[0m \u001b[38;5;28;01mfrom\u001b[39;00m \u001b[38;5;21;01mdetector\u001b[39;00m\u001b[38;5;21;01m.\u001b[39;00m\u001b[38;5;21;01mdetector\u001b[39;00m \u001b[38;5;28;01mimport\u001b[39;00m DriftDetector, Config\n\u001b[1;32m      2\u001b[0m \u001b[38;5;28;01mfrom\u001b[39;00m \u001b[38;5;21;01mdetector\u001b[39;00m\u001b[38;5;21;01m.\u001b[39;00m\u001b[38;5;21;01mlogger\u001b[39;00m \u001b[38;5;28;01mimport\u001b[39;00m Logger\n\u001b[1;32m      3\u001b[0m \u001b[38;5;28;01mfrom\u001b[39;00m \u001b[38;5;21;01mdetector\u001b[39;00m\u001b[38;5;21;01m.\u001b[39;00m\u001b[38;5;21;01mtest\u001b[39;00m \u001b[38;5;28;01mimport\u001b[39;00m KSTest, WassersteinTest\n",
      "\u001b[0;31mModuleNotFoundError\u001b[0m: No module named 'detector'"
     ]
    }
   ],
   "source": [
    "from detector.detector import DriftDetector, Config\n",
    "from detector.logger import Logger\n",
    "from detector.test import KSTest, WassersteinTest\n",
    "from detector.analyser import LastWeekAnalyser"
   ]
  },
  {
   "cell_type": "code",
   "execution_count": 7,
   "metadata": {},
   "outputs": [
    {
     "ename": "ModuleNotFoundError",
     "evalue": "No module named 'detector'",
     "output_type": "error",
     "traceback": [
      "\u001b[0;31m---------------------------------------------------------------------------\u001b[0m",
      "\u001b[0;31mModuleNotFoundError\u001b[0m                       Traceback (most recent call last)",
      "Cell \u001b[0;32mIn[7], line 4\u001b[0m\n\u001b[1;32m      2\u001b[0m \u001b[38;5;28;01mimport\u001b[39;00m \u001b[38;5;21;01mpickle\u001b[39;00m\n\u001b[1;32m      3\u001b[0m \u001b[38;5;28;01mwith\u001b[39;00m \u001b[38;5;28mopen\u001b[39m(\u001b[38;5;124m'\u001b[39m\u001b[38;5;124m./katoda-logs-quic-ppi.pkl\u001b[39m\u001b[38;5;124m'\u001b[39m, \u001b[38;5;124m'\u001b[39m\u001b[38;5;124mrb\u001b[39m\u001b[38;5;124m'\u001b[39m) \u001b[38;5;28;01mas\u001b[39;00m inp:\n\u001b[0;32m----> 4\u001b[0m     logger_drift \u001b[38;5;241m=\u001b[39m \u001b[43mpickle\u001b[49m\u001b[38;5;241;43m.\u001b[39;49m\u001b[43mload\u001b[49m\u001b[43m(\u001b[49m\u001b[43minp\u001b[49m\u001b[43m)\u001b[49m\n\u001b[1;32m      5\u001b[0m     logger_ref \u001b[38;5;241m=\u001b[39m pickle\u001b[38;5;241m.\u001b[39mload(inp)\n",
      "\u001b[0;31mModuleNotFoundError\u001b[0m: No module named 'detector'"
     ]
    }
   ],
   "source": [
    "# Load stored dataset logs\n",
    "import pickle\n",
    "with open('./katoda-logs-quic-ppi.pkl', 'rb') as inp:\n",
    "    logger_drift = pickle.load(inp)\n",
    "    logger_ref = pickle.load(inp)"
   ]
  },
  {
   "cell_type": "markdown",
   "metadata": {},
   "source": [
    "## Global Results"
   ]
  },
  {
   "cell_type": "code",
   "execution_count": 7,
   "metadata": {},
   "outputs": [
    {
     "ename": "NameError",
     "evalue": "name 'pd' is not defined",
     "output_type": "error",
     "traceback": [
      "\u001b[0;31m---------------------------------------------------------------------------\u001b[0m",
      "\u001b[0;31mNameError\u001b[0m                                 Traceback (most recent call last)",
      "Cell \u001b[0;32mIn[7], line 2\u001b[0m\n\u001b[1;32m      1\u001b[0m \u001b[38;5;66;03m# Load service map labels\u001b[39;00m\n\u001b[0;32m----> 2\u001b[0m servicemap \u001b[38;5;241m=\u001b[39m \u001b[43mpd\u001b[49m\u001b[38;5;241m.\u001b[39mread_csv(\u001b[38;5;124m\"\u001b[39m\u001b[38;5;124m/home/dosoukup/Dataset/Thesis_contents/testing/datasets/QUIC/XS/servicemap.csv\u001b[39m\u001b[38;5;124m\"\u001b[39m)\n",
      "\u001b[0;31mNameError\u001b[0m: name 'pd' is not defined"
     ]
    }
   ],
   "source": [
    "# Load service map labels\n",
    "servicemap = pd.read_csv(\"/home/dosoukup/Dataset/Thesis_contents/testing/datasets/QUIC/XS/servicemap.csv\")"
   ]
  },
  {
   "cell_type": "code",
   "execution_count": 15,
   "metadata": {},
   "outputs": [],
   "source": [
    "# Create mapping structure for label names\n",
    "mapping = {}\n",
    "for item in logger_drift.get_logs(log_type=\"class\").columns:\n",
    "    #print(item.split(\"_\"))\n",
    "    mapping[item] = servicemap.loc[int(item.split(\"_\")[1])][\"Service\"]"
   ]
  },
  {
   "cell_type": "code",
   "execution_count": 16,
   "metadata": {},
   "outputs": [
    {
     "name": "stdout",
     "output_type": "stream",
     "text": [
      "Loading data from dataloader\n"
     ]
    },
    {
     "name": "stderr",
     "output_type": "stream",
     "text": [
      "100%|██████████| 105/105 [00:01<00:00, 93.26it/s]\n"
     ]
    },
    {
     "name": "stdout",
     "output_type": "stream",
     "text": [
      "Loading data from dataloader\n"
     ]
    },
    {
     "name": "stderr",
     "output_type": "stream",
     "text": [
      "100%|██████████| 105/105 [00:01<00:00, 101.13it/s]\n"
     ]
    },
    {
     "name": "stdout",
     "output_type": "stream",
     "text": [
      "Loading data from dataloader\n"
     ]
    },
    {
     "name": "stderr",
     "output_type": "stream",
     "text": [
      "100%|██████████| 213/213 [00:02<00:00, 105.17it/s]\n"
     ]
    },
    {
     "name": "stdout",
     "output_type": "stream",
     "text": [
      "Loading data from dataloader\n"
     ]
    },
    {
     "name": "stderr",
     "output_type": "stream",
     "text": [
      "100%|██████████| 212/212 [00:02<00:00, 104.29it/s]\n"
     ]
    },
    {
     "name": "stdout",
     "output_type": "stream",
     "text": [
      "Loading data from dataloader\n"
     ]
    },
    {
     "name": "stderr",
     "output_type": "stream",
     "text": [
      "100%|██████████| 165/165 [00:01<00:00, 100.89it/s]\n"
     ]
    },
    {
     "name": "stdout",
     "output_type": "stream",
     "text": [
      "Loading data from dataloader\n"
     ]
    },
    {
     "name": "stderr",
     "output_type": "stream",
     "text": [
      "100%|██████████| 72/72 [00:00<00:00, 98.82it/s] \n"
     ]
    },
    {
     "name": "stdout",
     "output_type": "stream",
     "text": [
      "Loading data from dataloader\n"
     ]
    },
    {
     "name": "stderr",
     "output_type": "stream",
     "text": [
      "100%|██████████| 87/87 [00:00<00:00, 102.88it/s]\n"
     ]
    },
    {
     "name": "stdout",
     "output_type": "stream",
     "text": [
      "Loading data from dataloader\n"
     ]
    },
    {
     "name": "stderr",
     "output_type": "stream",
     "text": [
      "100%|██████████| 238/238 [00:02<00:00, 107.12it/s]\n"
     ]
    },
    {
     "name": "stdout",
     "output_type": "stream",
     "text": [
      "Loading data from dataloader\n"
     ]
    },
    {
     "name": "stderr",
     "output_type": "stream",
     "text": [
      "100%|██████████| 242/242 [00:02<00:00, 102.23it/s]\n"
     ]
    },
    {
     "name": "stdout",
     "output_type": "stream",
     "text": [
      "Loading data from dataloader\n"
     ]
    },
    {
     "name": "stderr",
     "output_type": "stream",
     "text": [
      "100%|██████████| 236/236 [00:02<00:00, 106.14it/s]\n"
     ]
    },
    {
     "name": "stdout",
     "output_type": "stream",
     "text": [
      "Loading data from dataloader\n"
     ]
    },
    {
     "name": "stderr",
     "output_type": "stream",
     "text": [
      "100%|██████████| 218/218 [00:02<00:00, 102.90it/s]\n"
     ]
    },
    {
     "name": "stdout",
     "output_type": "stream",
     "text": [
      "Loading data from dataloader\n"
     ]
    },
    {
     "name": "stderr",
     "output_type": "stream",
     "text": [
      "100%|██████████| 159/159 [00:01<00:00, 101.23it/s]\n"
     ]
    },
    {
     "name": "stdout",
     "output_type": "stream",
     "text": [
      "Loading data from dataloader\n"
     ]
    },
    {
     "name": "stderr",
     "output_type": "stream",
     "text": [
      "100%|██████████| 70/70 [00:00<00:00, 97.11it/s] \n"
     ]
    },
    {
     "name": "stdout",
     "output_type": "stream",
     "text": [
      "Loading data from dataloader\n"
     ]
    },
    {
     "name": "stderr",
     "output_type": "stream",
     "text": [
      "100%|██████████| 87/87 [00:00<00:00, 97.50it/s] \n"
     ]
    },
    {
     "name": "stdout",
     "output_type": "stream",
     "text": [
      "Loading data from dataloader\n"
     ]
    },
    {
     "name": "stderr",
     "output_type": "stream",
     "text": [
      "100%|██████████| 236/236 [00:02<00:00, 105.06it/s]\n"
     ]
    },
    {
     "name": "stdout",
     "output_type": "stream",
     "text": [
      "Loading data from dataloader\n"
     ]
    },
    {
     "name": "stderr",
     "output_type": "stream",
     "text": [
      "100%|██████████| 235/235 [00:02<00:00, 106.45it/s]\n"
     ]
    },
    {
     "name": "stdout",
     "output_type": "stream",
     "text": [
      "Loading data from dataloader\n"
     ]
    },
    {
     "name": "stderr",
     "output_type": "stream",
     "text": [
      "100%|██████████| 193/193 [00:01<00:00, 105.59it/s]\n"
     ]
    },
    {
     "name": "stdout",
     "output_type": "stream",
     "text": [
      "Loading data from dataloader\n"
     ]
    },
    {
     "name": "stderr",
     "output_type": "stream",
     "text": [
      "100%|██████████| 79/79 [00:00<00:00, 93.07it/s] \n"
     ]
    },
    {
     "name": "stdout",
     "output_type": "stream",
     "text": [
      "Loading data from dataloader\n"
     ]
    },
    {
     "name": "stderr",
     "output_type": "stream",
     "text": [
      "100%|██████████| 106/106 [00:01<00:00, 90.76it/s]\n"
     ]
    },
    {
     "name": "stdout",
     "output_type": "stream",
     "text": [
      "Loading data from dataloader\n"
     ]
    },
    {
     "name": "stderr",
     "output_type": "stream",
     "text": [
      "100%|██████████| 60/60 [00:00<00:00, 92.37it/s] \n"
     ]
    },
    {
     "name": "stdout",
     "output_type": "stream",
     "text": [
      "Loading data from dataloader\n"
     ]
    },
    {
     "name": "stderr",
     "output_type": "stream",
     "text": [
      "100%|██████████| 80/80 [00:00<00:00, 97.21it/s] \n"
     ]
    },
    {
     "name": "stdout",
     "output_type": "stream",
     "text": [
      "Loading data from dataloader\n"
     ]
    },
    {
     "name": "stderr",
     "output_type": "stream",
     "text": [
      "100%|██████████| 242/242 [00:02<00:00, 105.81it/s]\n"
     ]
    },
    {
     "name": "stdout",
     "output_type": "stream",
     "text": [
      "Loading data from dataloader\n"
     ]
    },
    {
     "name": "stderr",
     "output_type": "stream",
     "text": [
      "100%|██████████| 251/251 [00:02<00:00, 107.35it/s]\n"
     ]
    },
    {
     "name": "stdout",
     "output_type": "stream",
     "text": [
      "Loading data from dataloader\n"
     ]
    },
    {
     "name": "stderr",
     "output_type": "stream",
     "text": [
      "100%|██████████| 250/250 [00:02<00:00, 103.24it/s]\n"
     ]
    },
    {
     "name": "stdout",
     "output_type": "stream",
     "text": [
      "Loading data from dataloader\n"
     ]
    },
    {
     "name": "stderr",
     "output_type": "stream",
     "text": [
      "100%|██████████| 225/225 [00:02<00:00, 105.39it/s]\n"
     ]
    },
    {
     "name": "stdout",
     "output_type": "stream",
     "text": [
      "Loading data from dataloader\n"
     ]
    },
    {
     "name": "stderr",
     "output_type": "stream",
     "text": [
      "100%|██████████| 162/162 [00:01<00:00, 101.39it/s]\n"
     ]
    },
    {
     "name": "stdout",
     "output_type": "stream",
     "text": [
      "Loading data from dataloader\n"
     ]
    },
    {
     "name": "stderr",
     "output_type": "stream",
     "text": [
      "100%|██████████| 73/73 [00:00<00:00, 98.87it/s] \n"
     ]
    },
    {
     "name": "stdout",
     "output_type": "stream",
     "text": [
      "Loading data from dataloader\n"
     ]
    },
    {
     "name": "stderr",
     "output_type": "stream",
     "text": [
      "100%|██████████| 89/89 [00:00<00:00, 90.10it/s]\n"
     ]
    }
   ],
   "source": [
    "# Get stats from the complete dataset\n",
    "data = CESNET_QUIC22(\"/home/dosoukup/Dataset/Thesis_contents/testing/datasets/QUIC/\", size=\"XS\")\n",
    "common_params = {\n",
    "    \"dataset\": data,\n",
    "    \"train_period_name\": \"W-2022-44\",\n",
    "    \"apps_selection\": AppSelection.ALL_KNOWN,\n",
    "    \"use_packet_histograms\": True,\n",
    "}\n",
    "curr_df = {}\n",
    "current_date = datetime(2022, 10, 31)\n",
    "while current_date <= datetime(2022, 11, 27):\n",
    "    dataset_config = DatasetConfig(**common_params, test_period_name=current_date.strftime(\"M-%Y-%m\"), test_dates=[current_date.strftime(\"%Y%m%d\")])\n",
    "    data.set_dataset_config_and_initialize(dataset_config)\n",
    "    tmp = data.get_test_df(flatten_ppi=True)\n",
    "    dataset_summary = {}\n",
    "    for idx, name in enumerate(tmp[\"APP\"].value_counts().index.tolist()): \n",
    "        #print('Class:', servicemap.loc[int(name)][\"Service\"], 'Counts:', curr_df[\"APP\"].value_counts().iloc[idx]) \n",
    "        dataset_summary[servicemap.loc[int(name)][\"Service\"]] = tmp[\"APP\"].value_counts().iloc[idx]\n",
    "    curr_df.update(dataset_summary)\n",
    "    current_date += timedelta(days=1)"
   ]
  },
  {
   "cell_type": "code",
   "execution_count": 21,
   "metadata": {},
   "outputs": [
    {
     "data": {
      "text/plain": [
       "{'doi.org': 9118,\n",
       " 'Facebook Resumable Upload': 5210,\n",
       " 'Facebook Media': 6226,\n",
       " 'Facebook Graph Games API': 6588,\n",
       " 'Apple iCloud Private Relay': 13322,\n",
       " 'Overleaf Compile': 10710,\n",
       " 'Flightradar24': 13060,\n",
       " 'Cloudflare CDNjs': 12154,\n",
       " 'CSGO Market': 10465,\n",
       " 'Google Safe Browsing API': 8063,\n",
       " 'hCaptcha': 12154,\n",
       " 'Chess.com': 6313,\n",
       " 'Kaggle': 1724,\n",
       " 'Youtube': 768,\n",
       " 'TawkTo': 10724,\n",
       " 'Blogger': 1561,\n",
       " 'Google Authentication': 2135,\n",
       " 'Gmail': 1475,\n",
       " 'AdAvoid': 1113,\n",
       " 'Spankbang': 6500,\n",
       " 'Google Pay': 4906,\n",
       " 'DoH (5 providers)': 4692,\n",
       " 'Facebook Web': 1259,\n",
       " 'Overleaf CDN': 3178,\n",
       " 'Facebook Graph API': 26,\n",
       " 'Facebook Connect': 169,\n",
       " 'Garmin': 2705,\n",
       " 'Google Gstatic': 421,\n",
       " 'TikTok': 1695,\n",
       " 'MDPI Publisher': 382,\n",
       " 'Alza WebAPI': 279,\n",
       " '4chan': 824,\n",
       " 'MS Outlook': 864,\n",
       " 'Kiwi': 328,\n",
       " 'Google User Content': 452,\n",
       " 'Blitz': 1643,\n",
       " 'eBay Kleinanzeigen': 3073,\n",
       " 'Snapchat': 1750,\n",
       " 'Toggl': 218,\n",
       " 'TinyPass': 492,\n",
       " 'Medium': 559,\n",
       " 'Hubspot': 260,\n",
       " 'Google Autofill': 254,\n",
       " 'Google Colab': 432,\n",
       " 'Play.cz Radio': 837,\n",
       " 'Discord': 403,\n",
       " 'Google Hangouts & Meets': 564,\n",
       " 'JsDelivr': 822,\n",
       " 'GoOut': 509,\n",
       " 'Easybrain': 700,\n",
       " 'OneSignal': 266,\n",
       " 'Google Translate': 690,\n",
       " 'Fitbit': 193,\n",
       " 'Rohlik': 363,\n",
       " 'Mentimeter': 100,\n",
       " 'MS Substrate Services': 44,\n",
       " 'Dcard': 461,\n",
       " 'Google IMA SDK': 89,\n",
       " 'Signal CDN': 549,\n",
       " 'Font Awesome': 497,\n",
       " 'Bitly': 140,\n",
       " 'Uber': 888,\n",
       " 'NCBI': 201,\n",
       " 'Google Calendar': 75,\n",
       " 'Joinhoney': 57,\n",
       " 'XHamster': 284,\n",
       " 'WhatsApp': 21,\n",
       " 'DrMax': 72,\n",
       " 'Unity Games': 195,\n",
       " 'Facebook Messenger': 438,\n",
       " 'Chrome Remote Desktop API': 98,\n",
       " 'Spotify': 110,\n",
       " 'Google Drive': 150,\n",
       " 'Firebase Crashlytics': 27,\n",
       " 'Revolut': 144,\n",
       " 'eToro': 10,\n",
       " 'Click Endnote': 45,\n",
       " 'Google reCAPTCHA': 351,\n",
       " 'Livescore': 61,\n",
       " 'Gamedock': 108,\n",
       " 'Google Photos': 121,\n",
       " 'Usercentrics': 226,\n",
       " 'Alza Identity': 82,\n",
       " 'Openx': 2,\n",
       " 'SME': 94,\n",
       " 'Google Play': 32,\n",
       " 'Alza': 64,\n",
       " 'Google Docs': 43,\n",
       " 'Google Search & Maps': 49,\n",
       " 'Google Backend Services': 16,\n",
       " 'Forum24': 41,\n",
       " 'ConnectAd': 34,\n",
       " 'Google Scholar': 11,\n",
       " 'Google Fonts': 28,\n",
       " 'Dm': 67,\n",
       " 'Google Connectivity Check': 7,\n",
       " 'Instagram': 18,\n",
       " 'Shazam': 21,\n",
       " 'Google Analytics & Ads': 45,\n",
       " 'Cedexis': 20,\n",
       " 'Pocasi Data': 38}"
      ]
     },
     "execution_count": 21,
     "metadata": {},
     "output_type": "execute_result"
    }
   ],
   "source": [
    "# class distribution summary\n",
    "curr_df"
   ]
  },
  {
   "cell_type": "code",
   "execution_count": 55,
   "metadata": {},
   "outputs": [
    {
     "name": "stdout",
     "output_type": "stream",
     "text": [
      "Classes 101\n"
     ]
    }
   ],
   "source": [
    "# Amount of classes\n",
    "print(\"Classes\",len(curr_df))"
   ]
  },
  {
   "cell_type": "code",
   "execution_count": 54,
   "metadata": {},
   "outputs": [
    {
     "name": "stdout",
     "output_type": "stream",
     "text": [
      "Features 134\n"
     ]
    }
   ],
   "source": [
    "# Amount of feat\n",
    "print(\"Features\",len(tmp.columns))"
   ]
  },
  {
   "cell_type": "code",
   "execution_count": 33,
   "metadata": {},
   "outputs": [
    {
     "data": {
      "text/html": [
       "<div>\n",
       "<style scoped>\n",
       "    .dataframe tbody tr th:only-of-type {\n",
       "        vertical-align: middle;\n",
       "    }\n",
       "\n",
       "    .dataframe tbody tr th {\n",
       "        vertical-align: top;\n",
       "    }\n",
       "\n",
       "    .dataframe thead th {\n",
       "        text-align: right;\n",
       "    }\n",
       "</style>\n",
       "<table border=\"1\" class=\"dataframe\">\n",
       "  <thead>\n",
       "    <tr style=\"text-align: right;\">\n",
       "      <th></th>\n",
       "      <th>Ratio_of_drift_detections</th>\n",
       "      <th>Mean_drift_strength</th>\n",
       "      <th>Mean_ratio_of_drifted_features</th>\n",
       "      <th>Mean_f1_score</th>\n",
       "    </tr>\n",
       "    <tr>\n",
       "      <th>Experiment name</th>\n",
       "      <th></th>\n",
       "      <th></th>\n",
       "      <th></th>\n",
       "      <th></th>\n",
       "    </tr>\n",
       "  </thead>\n",
       "  <tbody>\n",
       "    <tr>\n",
       "      <th>Retraining model</th>\n",
       "      <td>0.047619</td>\n",
       "      <td>0.024737</td>\n",
       "      <td>0.004762</td>\n",
       "      <td>0.797831</td>\n",
       "    </tr>\n",
       "    <tr>\n",
       "      <th>Reference model</th>\n",
       "      <td>0.380952</td>\n",
       "      <td>0.033336</td>\n",
       "      <td>0.010623</td>\n",
       "      <td>0.702484</td>\n",
       "    </tr>\n",
       "  </tbody>\n",
       "</table>\n",
       "</div>"
      ],
      "text/plain": [
       "                  Ratio_of_drift_detections  Mean_drift_strength  \\\n",
       "Experiment name                                                    \n",
       "Retraining model                   0.047619             0.024737   \n",
       "Reference model                    0.380952             0.033336   \n",
       "\n",
       "                  Mean_ratio_of_drifted_features  Mean_f1_score  \n",
       "Experiment name                                                  \n",
       "Retraining model                        0.004762       0.797831  \n",
       "Reference model                         0.010623       0.702484  "
      ]
     },
     "execution_count": 33,
     "metadata": {},
     "output_type": "execute_result"
    }
   ],
   "source": [
    "from detector.reporter import Reporter\n",
    "reporter = Reporter([logger_drift,logger_ref], [\"Retraining model\", \"Reference model\"], chunk_length=7)\n",
    "reporter.get_global_results()"
   ]
  },
  {
   "cell_type": "code",
   "execution_count": 34,
   "metadata": {
    "scrolled": true
   },
   "outputs": [
    {
     "data": {
      "image/png": "[encoded data removed]",
      "text/plain": [
       "<Figure size 1200x500 with 2 Axes>"
      ]
     },
     "metadata": {},
     "output_type": "display_data"
    }
   ],
   "source": [
    "figure = reporter.plot_global_results(detection_threshold = 0.04,\n",
    "    severity_style = [{\"line\": \"dotted\", \"color\": \"blue\", \"alpha\": 0.5},\n",
    "                      {\"line\": \"solid\", \"color\": \"blue\", \"alpha\": 0.5}],\n",
    "    f1_style = [{\"line\": \"dotted\", \"color\": \"red\", \"alpha\": 0.5},\n",
    "                {\"line\": \"solid\", \"color\": \"red\", \"alpha\": 0.5}],\n",
    "    detection_style = [{\"line\": \"solid\", \"color\": \"y\", \"alpha\": 0.5},\n",
    "                       {\"line\": \"dotted\", \"color\": \"cyan\", \"alpha\": 0.25}]\n",
    ")\n",
    "plt.show()"
   ]
  },
  {
   "cell_type": "code",
   "execution_count": 35,
   "metadata": {},
   "outputs": [
    {
     "name": "stdout",
     "output_type": "stream",
     "text": [
      "Analysis results of Retraining model experiment:\n",
      "Drift_type\n",
      "No_drift         14\n",
      "Unknown_drift     7\n",
      "Name: count, dtype: int64\n"
     ]
    },
    {
     "data": {
      "image/png": "[encoded data removed]",
      "text/plain": [
       "<Figure size 800x400 with 2 Axes>"
      ]
     },
     "metadata": {},
     "output_type": "display_data"
    },
    {
     "name": "stdout",
     "output_type": "stream",
     "text": [
      "Analysis results of Reference model experiment:\n",
      "Drift_type\n",
      "No_drift         14\n",
      "Unknown_drift     7\n",
      "Name: count, dtype: int64\n"
     ]
    },
    {
     "data": {
      "image/png": "[encoded data removed]",
      "text/plain": [
       "<Figure size 800x400 with 2 Axes>"
      ]
     },
     "metadata": {},
     "output_type": "display_data"
    }
   ],
   "source": [
    "reporter.plot_analysis_results(detection_threshold = 0.04)"
   ]
  },
  {
   "cell_type": "code",
   "execution_count": 36,
   "metadata": {},
   "outputs": [
    {
     "name": "stdout",
     "output_type": "stream",
     "text": [
      "=== Drifts number ===\n",
      "Reference is_drifted\n",
      "False    13\n",
      "True      8\n",
      "Name: count, dtype: int64\n",
      "Retraining is_drifted\n",
      "False    20\n",
      "True      1\n",
      "Name: count, dtype: int64\n",
      "=== Top 5 drifted classes ===\n",
      "Reference\n",
      "[{'class': 'Class_56', 'true_drift': 21},\n",
      " {'class': 'Class_59', 'true_drift': 21},\n",
      " {'class': 'Class_100', 'true_drift': 20},\n",
      " {'class': 'Class_27', 'true_drift': 20},\n",
      " {'class': 'Class_43', 'true_drift': 20}]\n",
      "Retraining\n",
      "[{'class': 'Class_56', 'true_drift': 21},\n",
      " {'class': 'Class_27', 'true_drift': 20},\n",
      " {'class': 'Class_59', 'true_drift': 20},\n",
      " {'class': 'Class_45', 'true_drift': 17},\n",
      " {'class': 'Class_50', 'true_drift': 17}]\n",
      "=== Top 5 drifted features ===\n",
      "Reference\n",
      "[{'feature': 'DIR_2', 'true_drift': 8},\n",
      " {'feature': 'SIZE_2', 'true_drift': 8},\n",
      " {'feature': 'DIR_3', 'true_drift': 7},\n",
      " {'feature': 'SIZE_5', 'true_drift': 5},\n",
      " {'feature': 'DIR_7', 'true_drift': 1}]\n",
      "Retraining\n",
      "[{'feature': 'SIZE_2', 'true_drift': 7},\n",
      " {'feature': 'DIR_2', 'true_drift': 4},\n",
      " {'feature': 'DIR_3', 'true_drift': 1},\n",
      " {'feature': 'SIZE_5', 'true_drift': 1},\n",
      " {'feature': 'BYTES', 'true_drift': 0}]\n"
     ]
    }
   ],
   "source": [
    "# Top N veci o datove sade\n",
    "\n",
    "# Celkovy pocet driftu\n",
    "print(\"=== Drifts number ===\")\n",
    "print(\"Reference\", logger_ref.get_logs()[\"is_drifted\"].value_counts())\n",
    "print(\"Retraining\", logger_drift.get_logs()[\"is_drifted\"].value_counts())\n",
    "# nejvic N driftujicich trid\n",
    "print(\"=== Top 5 drifted classes ===\")\n",
    "print(\"Reference\")\n",
    "top = get_top_drifted_class(logger_ref)\n",
    "maxitem = sorted(top, key=lambda x:x[\"true_drift\"],reverse=True)[:5]\n",
    "pprint(maxitem)\n",
    "print(\"Retraining\")\n",
    "top = get_top_drifted_class(logger_drift)\n",
    "maxitem = sorted(top, key=lambda x:x[\"true_drift\"],reverse=True)[:5]\n",
    "pprint(maxitem)\n",
    "# nejvic N driftujicich featur\n",
    "print(\"=== Top 5 drifted features ===\")\n",
    "print(\"Reference\")\n",
    "top = get_top_drifted_feature(logger_ref)\n",
    "maxitem = sorted(top, key=lambda x:x[\"true_drift\"],reverse=True)[:5]\n",
    "pprint(maxitem)\n",
    "print(\"Retraining\")\n",
    "top = get_top_drifted_feature(logger_drift)\n",
    "maxitem = sorted(top, key=lambda x:x[\"true_drift\"],reverse=True)[:5]\n",
    "pprint(maxitem)"
   ]
  },
  {
   "cell_type": "markdown",
   "metadata": {},
   "source": [
    "## Problematic window"
   ]
  },
  {
   "cell_type": "code",
   "execution_count": 37,
   "metadata": {},
   "outputs": [],
   "source": [
    "# Retraining - Get drift indexes \n",
    "idx_drift = logger_drift.get_logs()[logger_drift.get_logs()[\"is_drifted\"] == True].index\n",
    "# Reference - Get drift indexes \n",
    "idx_ref = logger_ref.get_logs()[logger_ref.get_logs()[\"is_drifted\"] == True].index"
   ]
  },
  {
   "cell_type": "code",
   "execution_count": 40,
   "metadata": {},
   "outputs": [
    {
     "data": {
      "text/plain": [
       "DatetimeIndex(['2022-11-12'], dtype='datetime64[ns]', freq=None)"
      ]
     },
     "execution_count": 40,
     "metadata": {},
     "output_type": "execute_result"
    }
   ],
   "source": [
    "idx_drift"
   ]
  },
  {
   "cell_type": "code",
   "execution_count": 38,
   "metadata": {},
   "outputs": [],
   "source": [
    "# TODO doublecheck nan value for TLS PPI\n",
    "tmp_drift = logger_drift.get_logs(log_type=\"class\").loc[idx_drift].apply(ks_sample_drifted).rename(columns=mapping)"
   ]
  },
  {
   "cell_type": "code",
   "execution_count": 39,
   "metadata": {},
   "outputs": [
    {
     "data": {
      "text/html": [
       "<div>\n",
       "<style scoped>\n",
       "    .dataframe tbody tr th:only-of-type {\n",
       "        vertical-align: middle;\n",
       "    }\n",
       "\n",
       "    .dataframe tbody tr th {\n",
       "        vertical-align: top;\n",
       "    }\n",
       "\n",
       "    .dataframe thead th {\n",
       "        text-align: right;\n",
       "    }\n",
       "</style>\n",
       "<table border=\"1\" class=\"dataframe\">\n",
       "  <thead>\n",
       "    <tr style=\"text-align: right;\">\n",
       "      <th></th>\n",
       "      <th>BYTES</th>\n",
       "      <th>BYTES_REV</th>\n",
       "      <th>DIR_1</th>\n",
       "      <th>DIR_10</th>\n",
       "      <th>DIR_11</th>\n",
       "      <th>DIR_12</th>\n",
       "      <th>DIR_13</th>\n",
       "      <th>DIR_14</th>\n",
       "      <th>DIR_15</th>\n",
       "      <th>DIR_16</th>\n",
       "      <th>DIR_17</th>\n",
       "      <th>DIR_18</th>\n",
       "      <th>DIR_19</th>\n",
       "      <th>DIR_2</th>\n",
       "      <th>DIR_20</th>\n",
       "      <th>DIR_21</th>\n",
       "      <th>DIR_22</th>\n",
       "      <th>DIR_23</th>\n",
       "      <th>DIR_24</th>\n",
       "      <th>DIR_25</th>\n",
       "      <th>DIR_26</th>\n",
       "      <th>DIR_27</th>\n",
       "      <th>DIR_28</th>\n",
       "      <th>DIR_29</th>\n",
       "      <th>DIR_3</th>\n",
       "      <th>DIR_30</th>\n",
       "      <th>DIR_4</th>\n",
       "      <th>DIR_5</th>\n",
       "      <th>DIR_6</th>\n",
       "      <th>DIR_7</th>\n",
       "      <th>DIR_8</th>\n",
       "      <th>DIR_9</th>\n",
       "      <th>DURATION</th>\n",
       "      <th>IPT_1</th>\n",
       "      <th>IPT_10</th>\n",
       "      <th>IPT_11</th>\n",
       "      <th>IPT_12</th>\n",
       "      <th>IPT_13</th>\n",
       "      <th>IPT_14</th>\n",
       "      <th>IPT_15</th>\n",
       "      <th>IPT_16</th>\n",
       "      <th>IPT_17</th>\n",
       "      <th>IPT_18</th>\n",
       "      <th>IPT_19</th>\n",
       "      <th>IPT_2</th>\n",
       "      <th>IPT_20</th>\n",
       "      <th>IPT_21</th>\n",
       "      <th>IPT_22</th>\n",
       "      <th>IPT_23</th>\n",
       "      <th>IPT_24</th>\n",
       "      <th>IPT_25</th>\n",
       "      <th>IPT_26</th>\n",
       "      <th>IPT_27</th>\n",
       "      <th>IPT_28</th>\n",
       "      <th>IPT_29</th>\n",
       "      <th>IPT_3</th>\n",
       "      <th>IPT_30</th>\n",
       "      <th>IPT_4</th>\n",
       "      <th>IPT_5</th>\n",
       "      <th>IPT_6</th>\n",
       "      <th>IPT_7</th>\n",
       "      <th>IPT_8</th>\n",
       "      <th>IPT_9</th>\n",
       "      <th>IPT_BIN1</th>\n",
       "      <th>IPT_BIN1_REV</th>\n",
       "      <th>IPT_BIN2</th>\n",
       "      <th>IPT_BIN2_REV</th>\n",
       "      <th>IPT_BIN3</th>\n",
       "      <th>IPT_BIN3_REV</th>\n",
       "      <th>IPT_BIN4</th>\n",
       "      <th>IPT_BIN4_REV</th>\n",
       "      <th>IPT_BIN5</th>\n",
       "      <th>IPT_BIN5_REV</th>\n",
       "      <th>IPT_BIN6</th>\n",
       "      <th>IPT_BIN6_REV</th>\n",
       "      <th>IPT_BIN7</th>\n",
       "      <th>IPT_BIN7_REV</th>\n",
       "      <th>IPT_BIN8</th>\n",
       "      <th>IPT_BIN8_REV</th>\n",
       "      <th>PACKETS</th>\n",
       "      <th>PACKETS_REV</th>\n",
       "      <th>PPI_DURATION</th>\n",
       "      <th>PPI_LEN</th>\n",
       "      <th>PPI_ROUNDTRIPS</th>\n",
       "      <th>PSIZE_BIN1</th>\n",
       "      <th>PSIZE_BIN1_REV</th>\n",
       "      <th>PSIZE_BIN2</th>\n",
       "      <th>PSIZE_BIN2_REV</th>\n",
       "      <th>PSIZE_BIN3</th>\n",
       "      <th>PSIZE_BIN3_REV</th>\n",
       "      <th>PSIZE_BIN4</th>\n",
       "      <th>PSIZE_BIN4_REV</th>\n",
       "      <th>PSIZE_BIN5</th>\n",
       "      <th>PSIZE_BIN5_REV</th>\n",
       "      <th>PSIZE_BIN6</th>\n",
       "      <th>PSIZE_BIN6_REV</th>\n",
       "      <th>PSIZE_BIN7</th>\n",
       "      <th>PSIZE_BIN7_REV</th>\n",
       "      <th>PSIZE_BIN8</th>\n",
       "      <th>PSIZE_BIN8_REV</th>\n",
       "      <th>SIZE_1</th>\n",
       "      <th>SIZE_10</th>\n",
       "      <th>SIZE_11</th>\n",
       "      <th>SIZE_12</th>\n",
       "      <th>SIZE_13</th>\n",
       "      <th>SIZE_14</th>\n",
       "      <th>SIZE_15</th>\n",
       "      <th>SIZE_16</th>\n",
       "      <th>SIZE_17</th>\n",
       "      <th>SIZE_18</th>\n",
       "      <th>SIZE_19</th>\n",
       "      <th>SIZE_2</th>\n",
       "      <th>SIZE_20</th>\n",
       "      <th>SIZE_21</th>\n",
       "      <th>SIZE_22</th>\n",
       "      <th>SIZE_23</th>\n",
       "      <th>SIZE_24</th>\n",
       "      <th>SIZE_25</th>\n",
       "      <th>SIZE_26</th>\n",
       "      <th>SIZE_27</th>\n",
       "      <th>SIZE_28</th>\n",
       "      <th>SIZE_29</th>\n",
       "      <th>SIZE_3</th>\n",
       "      <th>SIZE_30</th>\n",
       "      <th>SIZE_4</th>\n",
       "      <th>SIZE_5</th>\n",
       "      <th>SIZE_6</th>\n",
       "      <th>SIZE_7</th>\n",
       "      <th>SIZE_8</th>\n",
       "      <th>SIZE_9</th>\n",
       "    </tr>\n",
       "  </thead>\n",
       "  <tbody>\n",
       "    <tr>\n",
       "      <th>2022-11-12</th>\n",
       "      <td>False</td>\n",
       "      <td>False</td>\n",
       "      <td>False</td>\n",
       "      <td>False</td>\n",
       "      <td>False</td>\n",
       "      <td>False</td>\n",
       "      <td>False</td>\n",
       "      <td>False</td>\n",
       "      <td>False</td>\n",
       "      <td>False</td>\n",
       "      <td>False</td>\n",
       "      <td>False</td>\n",
       "      <td>False</td>\n",
       "      <td>True</td>\n",
       "      <td>False</td>\n",
       "      <td>False</td>\n",
       "      <td>False</td>\n",
       "      <td>False</td>\n",
       "      <td>False</td>\n",
       "      <td>False</td>\n",
       "      <td>False</td>\n",
       "      <td>False</td>\n",
       "      <td>False</td>\n",
       "      <td>False</td>\n",
       "      <td>True</td>\n",
       "      <td>False</td>\n",
       "      <td>False</td>\n",
       "      <td>False</td>\n",
       "      <td>False</td>\n",
       "      <td>False</td>\n",
       "      <td>False</td>\n",
       "      <td>False</td>\n",
       "      <td>False</td>\n",
       "      <td>False</td>\n",
       "      <td>False</td>\n",
       "      <td>False</td>\n",
       "      <td>False</td>\n",
       "      <td>False</td>\n",
       "      <td>False</td>\n",
       "      <td>False</td>\n",
       "      <td>False</td>\n",
       "      <td>False</td>\n",
       "      <td>False</td>\n",
       "      <td>False</td>\n",
       "      <td>False</td>\n",
       "      <td>False</td>\n",
       "      <td>False</td>\n",
       "      <td>False</td>\n",
       "      <td>False</td>\n",
       "      <td>False</td>\n",
       "      <td>False</td>\n",
       "      <td>False</td>\n",
       "      <td>False</td>\n",
       "      <td>False</td>\n",
       "      <td>False</td>\n",
       "      <td>False</td>\n",
       "      <td>False</td>\n",
       "      <td>False</td>\n",
       "      <td>False</td>\n",
       "      <td>False</td>\n",
       "      <td>False</td>\n",
       "      <td>False</td>\n",
       "      <td>False</td>\n",
       "      <td>False</td>\n",
       "      <td>False</td>\n",
       "      <td>False</td>\n",
       "      <td>False</td>\n",
       "      <td>False</td>\n",
       "      <td>False</td>\n",
       "      <td>False</td>\n",
       "      <td>False</td>\n",
       "      <td>False</td>\n",
       "      <td>False</td>\n",
       "      <td>False</td>\n",
       "      <td>False</td>\n",
       "      <td>False</td>\n",
       "      <td>False</td>\n",
       "      <td>False</td>\n",
       "      <td>False</td>\n",
       "      <td>False</td>\n",
       "      <td>False</td>\n",
       "      <td>False</td>\n",
       "      <td>False</td>\n",
       "      <td>False</td>\n",
       "      <td>False</td>\n",
       "      <td>False</td>\n",
       "      <td>False</td>\n",
       "      <td>False</td>\n",
       "      <td>False</td>\n",
       "      <td>False</td>\n",
       "      <td>False</td>\n",
       "      <td>False</td>\n",
       "      <td>False</td>\n",
       "      <td>False</td>\n",
       "      <td>False</td>\n",
       "      <td>False</td>\n",
       "      <td>False</td>\n",
       "      <td>False</td>\n",
       "      <td>False</td>\n",
       "      <td>False</td>\n",
       "      <td>False</td>\n",
       "      <td>False</td>\n",
       "      <td>False</td>\n",
       "      <td>False</td>\n",
       "      <td>False</td>\n",
       "      <td>False</td>\n",
       "      <td>False</td>\n",
       "      <td>False</td>\n",
       "      <td>False</td>\n",
       "      <td>False</td>\n",
       "      <td>False</td>\n",
       "      <td>True</td>\n",
       "      <td>False</td>\n",
       "      <td>False</td>\n",
       "      <td>False</td>\n",
       "      <td>False</td>\n",
       "      <td>False</td>\n",
       "      <td>False</td>\n",
       "      <td>False</td>\n",
       "      <td>False</td>\n",
       "      <td>False</td>\n",
       "      <td>False</td>\n",
       "      <td>False</td>\n",
       "      <td>False</td>\n",
       "      <td>False</td>\n",
       "      <td>False</td>\n",
       "      <td>False</td>\n",
       "      <td>False</td>\n",
       "      <td>False</td>\n",
       "      <td>False</td>\n",
       "    </tr>\n",
       "  </tbody>\n",
       "</table>\n",
       "</div>"
      ],
      "text/plain": [
       "            BYTES  BYTES_REV  DIR_1  DIR_10  DIR_11  DIR_12  DIR_13  DIR_14  \\\n",
       "2022-11-12  False      False  False   False   False   False   False   False   \n",
       "\n",
       "            DIR_15  DIR_16  DIR_17  DIR_18  DIR_19  DIR_2  DIR_20  DIR_21  \\\n",
       "2022-11-12   False   False   False   False   False   True   False   False   \n",
       "\n",
       "            DIR_22  DIR_23  DIR_24  DIR_25  DIR_26  DIR_27  DIR_28  DIR_29  \\\n",
       "2022-11-12   False   False   False   False   False   False   False   False   \n",
       "\n",
       "            DIR_3  DIR_30  DIR_4  DIR_5  DIR_6  DIR_7  DIR_8  DIR_9  DURATION  \\\n",
       "2022-11-12   True   False  False  False  False  False  False  False     False   \n",
       "\n",
       "            IPT_1  IPT_10  IPT_11  IPT_12  IPT_13  IPT_14  IPT_15  IPT_16  \\\n",
       "2022-11-12  False   False   False   False   False   False   False   False   \n",
       "\n",
       "            IPT_17  IPT_18  IPT_19  IPT_2  IPT_20  IPT_21  IPT_22  IPT_23  \\\n",
       "2022-11-12   False   False   False  False   False   False   False   False   \n",
       "\n",
       "            IPT_24  IPT_25  IPT_26  IPT_27  IPT_28  IPT_29  IPT_3  IPT_30  \\\n",
       "2022-11-12   False   False   False   False   False   False  False   False   \n",
       "\n",
       "            IPT_4  IPT_5  IPT_6  IPT_7  IPT_8  IPT_9  IPT_BIN1  IPT_BIN1_REV  \\\n",
       "2022-11-12  False  False  False  False  False  False     False         False   \n",
       "\n",
       "            IPT_BIN2  IPT_BIN2_REV  IPT_BIN3  IPT_BIN3_REV  IPT_BIN4  \\\n",
       "2022-11-12     False         False     False         False     False   \n",
       "\n",
       "            IPT_BIN4_REV  IPT_BIN5  IPT_BIN5_REV  IPT_BIN6  IPT_BIN6_REV  \\\n",
       "2022-11-12         False     False         False     False         False   \n",
       "\n",
       "            IPT_BIN7  IPT_BIN7_REV  IPT_BIN8  IPT_BIN8_REV  PACKETS  \\\n",
       "2022-11-12     False         False     False         False    False   \n",
       "\n",
       "            PACKETS_REV  PPI_DURATION  PPI_LEN  PPI_ROUNDTRIPS  PSIZE_BIN1  \\\n",
       "2022-11-12        False         False    False           False       False   \n",
       "\n",
       "            PSIZE_BIN1_REV  PSIZE_BIN2  PSIZE_BIN2_REV  PSIZE_BIN3  \\\n",
       "2022-11-12           False       False           False       False   \n",
       "\n",
       "            PSIZE_BIN3_REV  PSIZE_BIN4  PSIZE_BIN4_REV  PSIZE_BIN5  \\\n",
       "2022-11-12           False       False           False       False   \n",
       "\n",
       "            PSIZE_BIN5_REV  PSIZE_BIN6  PSIZE_BIN6_REV  PSIZE_BIN7  \\\n",
       "2022-11-12           False       False           False       False   \n",
       "\n",
       "            PSIZE_BIN7_REV  PSIZE_BIN8  PSIZE_BIN8_REV  SIZE_1  SIZE_10  \\\n",
       "2022-11-12           False       False           False   False    False   \n",
       "\n",
       "            SIZE_11  SIZE_12  SIZE_13  SIZE_14  SIZE_15  SIZE_16  SIZE_17  \\\n",
       "2022-11-12    False    False    False    False    False    False    False   \n",
       "\n",
       "            SIZE_18  SIZE_19  SIZE_2  SIZE_20  SIZE_21  SIZE_22  SIZE_23  \\\n",
       "2022-11-12    False    False    True    False    False    False    False   \n",
       "\n",
       "            SIZE_24  SIZE_25  SIZE_26  SIZE_27  SIZE_28  SIZE_29  SIZE_3  \\\n",
       "2022-11-12    False    False    False    False    False    False   False   \n",
       "\n",
       "            SIZE_30  SIZE_4  SIZE_5  SIZE_6  SIZE_7  SIZE_8  SIZE_9  \n",
       "2022-11-12    False   False   False   False   False   False   False  "
      ]
     },
     "execution_count": 39,
     "metadata": {},
     "output_type": "execute_result"
    }
   ],
   "source": [
    "logger_drift.get_logs(log_type=\"feature\").loc[idx_drift].apply(ws_feature_drifted)"
   ]
  },
  {
   "cell_type": "markdown",
   "metadata": {},
   "source": [
    "## Per Chunk Result"
   ]
  },
  {
   "cell_type": "code",
   "execution_count": 41,
   "metadata": {},
   "outputs": [
    {
     "data": {
      "text/html": [
       "<div>\n",
       "<style scoped>\n",
       "    .dataframe tbody tr th:only-of-type {\n",
       "        vertical-align: middle;\n",
       "    }\n",
       "\n",
       "    .dataframe tbody tr th {\n",
       "        vertical-align: top;\n",
       "    }\n",
       "\n",
       "    .dataframe thead th {\n",
       "        text-align: right;\n",
       "    }\n",
       "</style>\n",
       "<table border=\"1\" class=\"dataframe\">\n",
       "  <thead>\n",
       "    <tr style=\"text-align: right;\">\n",
       "      <th></th>\n",
       "      <th>Ratio_of_drift_detections</th>\n",
       "      <th>Mean_drift_strength</th>\n",
       "      <th>Mean_ratio_of_drifted_features</th>\n",
       "      <th>Mean_f1_score</th>\n",
       "    </tr>\n",
       "    <tr>\n",
       "      <th>Chunk</th>\n",
       "      <th></th>\n",
       "      <th></th>\n",
       "      <th></th>\n",
       "      <th></th>\n",
       "    </tr>\n",
       "  </thead>\n",
       "  <tbody>\n",
       "    <tr>\n",
       "      <th>0</th>\n",
       "      <td>0.142857</td>\n",
       "      <td>0.026311</td>\n",
       "      <td>0.004396</td>\n",
       "      <td>0.753140</td>\n",
       "    </tr>\n",
       "    <tr>\n",
       "      <th>1</th>\n",
       "      <td>0.000000</td>\n",
       "      <td>0.022083</td>\n",
       "      <td>0.005495</td>\n",
       "      <td>0.827518</td>\n",
       "    </tr>\n",
       "    <tr>\n",
       "      <th>2</th>\n",
       "      <td>0.000000</td>\n",
       "      <td>0.025818</td>\n",
       "      <td>0.004396</td>\n",
       "      <td>0.812834</td>\n",
       "    </tr>\n",
       "  </tbody>\n",
       "</table>\n",
       "</div>"
      ],
      "text/plain": [
       "       Ratio_of_drift_detections  Mean_drift_strength  \\\n",
       "Chunk                                                   \n",
       "0                       0.142857             0.026311   \n",
       "1                       0.000000             0.022083   \n",
       "2                       0.000000             0.025818   \n",
       "\n",
       "       Mean_ratio_of_drifted_features  Mean_f1_score  \n",
       "Chunk                                                 \n",
       "0                            0.004396       0.753140  \n",
       "1                            0.005495       0.827518  \n",
       "2                            0.004396       0.812834  "
      ]
     },
     "metadata": {},
     "output_type": "display_data"
    },
    {
     "data": {
      "text/html": [
       "<div>\n",
       "<style scoped>\n",
       "    .dataframe tbody tr th:only-of-type {\n",
       "        vertical-align: middle;\n",
       "    }\n",
       "\n",
       "    .dataframe tbody tr th {\n",
       "        vertical-align: top;\n",
       "    }\n",
       "\n",
       "    .dataframe thead th {\n",
       "        text-align: right;\n",
       "    }\n",
       "</style>\n",
       "<table border=\"1\" class=\"dataframe\">\n",
       "  <thead>\n",
       "    <tr style=\"text-align: right;\">\n",
       "      <th></th>\n",
       "      <th>Ratio_of_drift_detections</th>\n",
       "      <th>Mean_drift_strength</th>\n",
       "      <th>Mean_ratio_of_drifted_features</th>\n",
       "      <th>Mean_f1_score</th>\n",
       "    </tr>\n",
       "    <tr>\n",
       "      <th>Chunk</th>\n",
       "      <th></th>\n",
       "      <th></th>\n",
       "      <th></th>\n",
       "      <th></th>\n",
       "    </tr>\n",
       "  </thead>\n",
       "  <tbody>\n",
       "    <tr>\n",
       "      <th>0</th>\n",
       "      <td>0.285714</td>\n",
       "      <td>0.030741</td>\n",
       "      <td>0.006593</td>\n",
       "      <td>0.732428</td>\n",
       "    </tr>\n",
       "    <tr>\n",
       "      <th>1</th>\n",
       "      <td>0.571429</td>\n",
       "      <td>0.035560</td>\n",
       "      <td>0.014286</td>\n",
       "      <td>0.692342</td>\n",
       "    </tr>\n",
       "    <tr>\n",
       "      <th>2</th>\n",
       "      <td>0.285714</td>\n",
       "      <td>0.033707</td>\n",
       "      <td>0.010989</td>\n",
       "      <td>0.682682</td>\n",
       "    </tr>\n",
       "  </tbody>\n",
       "</table>\n",
       "</div>"
      ],
      "text/plain": [
       "       Ratio_of_drift_detections  Mean_drift_strength  \\\n",
       "Chunk                                                   \n",
       "0                       0.285714             0.030741   \n",
       "1                       0.571429             0.035560   \n",
       "2                       0.285714             0.033707   \n",
       "\n",
       "       Mean_ratio_of_drifted_features  Mean_f1_score  \n",
       "Chunk                                                 \n",
       "0                            0.006593       0.732428  \n",
       "1                            0.014286       0.692342  \n",
       "2                            0.010989       0.682682  "
      ]
     },
     "metadata": {},
     "output_type": "display_data"
    },
    {
     "name": "stdout",
     "output_type": "stream",
     "text": [
      "Sorted by ratio of drift detections\n"
     ]
    },
    {
     "data": {
      "text/html": [
       "<div>\n",
       "<style scoped>\n",
       "    .dataframe tbody tr th:only-of-type {\n",
       "        vertical-align: middle;\n",
       "    }\n",
       "\n",
       "    .dataframe tbody tr th {\n",
       "        vertical-align: top;\n",
       "    }\n",
       "\n",
       "    .dataframe thead th {\n",
       "        text-align: right;\n",
       "    }\n",
       "</style>\n",
       "<table border=\"1\" class=\"dataframe\">\n",
       "  <thead>\n",
       "    <tr style=\"text-align: right;\">\n",
       "      <th></th>\n",
       "      <th>Ratio_of_drift_detections</th>\n",
       "      <th>Mean_drift_strength</th>\n",
       "      <th>Mean_ratio_of_drifted_features</th>\n",
       "      <th>Mean_f1_score</th>\n",
       "    </tr>\n",
       "    <tr>\n",
       "      <th>Chunk</th>\n",
       "      <th></th>\n",
       "      <th></th>\n",
       "      <th></th>\n",
       "      <th></th>\n",
       "    </tr>\n",
       "  </thead>\n",
       "  <tbody>\n",
       "    <tr>\n",
       "      <th>0</th>\n",
       "      <td>0.142857</td>\n",
       "      <td>0.026311</td>\n",
       "      <td>0.004396</td>\n",
       "      <td>0.753140</td>\n",
       "    </tr>\n",
       "    <tr>\n",
       "      <th>1</th>\n",
       "      <td>0.000000</td>\n",
       "      <td>0.022083</td>\n",
       "      <td>0.005495</td>\n",
       "      <td>0.827518</td>\n",
       "    </tr>\n",
       "    <tr>\n",
       "      <th>2</th>\n",
       "      <td>0.000000</td>\n",
       "      <td>0.025818</td>\n",
       "      <td>0.004396</td>\n",
       "      <td>0.812834</td>\n",
       "    </tr>\n",
       "  </tbody>\n",
       "</table>\n",
       "</div>"
      ],
      "text/plain": [
       "       Ratio_of_drift_detections  Mean_drift_strength  \\\n",
       "Chunk                                                   \n",
       "0                       0.142857             0.026311   \n",
       "1                       0.000000             0.022083   \n",
       "2                       0.000000             0.025818   \n",
       "\n",
       "       Mean_ratio_of_drifted_features  Mean_f1_score  \n",
       "Chunk                                                 \n",
       "0                            0.004396       0.753140  \n",
       "1                            0.005495       0.827518  \n",
       "2                            0.004396       0.812834  "
      ]
     },
     "metadata": {},
     "output_type": "display_data"
    },
    {
     "data": {
      "text/html": [
       "<div>\n",
       "<style scoped>\n",
       "    .dataframe tbody tr th:only-of-type {\n",
       "        vertical-align: middle;\n",
       "    }\n",
       "\n",
       "    .dataframe tbody tr th {\n",
       "        vertical-align: top;\n",
       "    }\n",
       "\n",
       "    .dataframe thead th {\n",
       "        text-align: right;\n",
       "    }\n",
       "</style>\n",
       "<table border=\"1\" class=\"dataframe\">\n",
       "  <thead>\n",
       "    <tr style=\"text-align: right;\">\n",
       "      <th></th>\n",
       "      <th>Ratio_of_drift_detections</th>\n",
       "      <th>Mean_drift_strength</th>\n",
       "      <th>Mean_ratio_of_drifted_features</th>\n",
       "      <th>Mean_f1_score</th>\n",
       "    </tr>\n",
       "    <tr>\n",
       "      <th>Chunk</th>\n",
       "      <th></th>\n",
       "      <th></th>\n",
       "      <th></th>\n",
       "      <th></th>\n",
       "    </tr>\n",
       "  </thead>\n",
       "  <tbody>\n",
       "    <tr>\n",
       "      <th>1</th>\n",
       "      <td>0.571429</td>\n",
       "      <td>0.035560</td>\n",
       "      <td>0.014286</td>\n",
       "      <td>0.692342</td>\n",
       "    </tr>\n",
       "    <tr>\n",
       "      <th>0</th>\n",
       "      <td>0.285714</td>\n",
       "      <td>0.030741</td>\n",
       "      <td>0.006593</td>\n",
       "      <td>0.732428</td>\n",
       "    </tr>\n",
       "    <tr>\n",
       "      <th>2</th>\n",
       "      <td>0.285714</td>\n",
       "      <td>0.033707</td>\n",
       "      <td>0.010989</td>\n",
       "      <td>0.682682</td>\n",
       "    </tr>\n",
       "  </tbody>\n",
       "</table>\n",
       "</div>"
      ],
      "text/plain": [
       "       Ratio_of_drift_detections  Mean_drift_strength  \\\n",
       "Chunk                                                   \n",
       "1                       0.571429             0.035560   \n",
       "0                       0.285714             0.030741   \n",
       "2                       0.285714             0.033707   \n",
       "\n",
       "       Mean_ratio_of_drifted_features  Mean_f1_score  \n",
       "Chunk                                                 \n",
       "1                            0.014286       0.692342  \n",
       "0                            0.006593       0.732428  \n",
       "2                            0.010989       0.682682  "
      ]
     },
     "metadata": {},
     "output_type": "display_data"
    }
   ],
   "source": [
    "for r in reporter.get_chunk_results():\n",
    "    display(r)\n",
    "\n",
    "print(\"Sorted by ratio of drift detections\")\n",
    "\n",
    "for r in reporter.get_chunk_results(sort_by=\"Ratio_of_drift_detections\", ascending = False):\n",
    "    display(r)"
   ]
  },
  {
   "cell_type": "markdown",
   "metadata": {},
   "source": [
    "# Per feature and class drift statistics"
   ]
  },
  {
   "cell_type": "markdown",
   "metadata": {},
   "source": [
    "### Most drifted features/classes on average"
   ]
  },
  {
   "cell_type": "code",
   "execution_count": 42,
   "metadata": {},
   "outputs": [
    {
     "name": "stdout",
     "output_type": "stream",
     "text": [
      "Without retraining\n",
      "\n",
      "Class_56     0.233924\n",
      "Class_59     0.260851\n",
      "Class_27     0.272154\n",
      "Class_55     0.278385\n",
      "Class_50     0.316138\n",
      "Class_62     0.316646\n",
      "Class_19     0.331457\n",
      "Class_89     0.339155\n",
      "Class_43     0.348367\n",
      "Class_45     0.399306\n",
      "Class_100    0.402568\n",
      "Class_57     0.417834\n",
      "Class_41     0.429474\n",
      "Class_61     0.443156\n",
      "Class_82     0.446833\n",
      "Class_42     0.461341\n",
      "Class_29     0.473896\n",
      "Class_32     0.488810\n",
      "Class_66     0.493558\n",
      "Class_28     0.499969\n",
      "Class_60     0.502613\n",
      "Class_17     0.508390\n",
      "Class_31     0.510216\n",
      "Class_99     0.516356\n",
      "Class_35     0.518224\n",
      "Class_14     0.519419\n",
      "Class_91     0.525796\n",
      "Class_47     0.532923\n",
      "Class_70     0.543062\n",
      "Class_44     0.558206\n",
      "Class_88     0.559990\n",
      "Class_51     0.574201\n",
      "Class_79     0.582457\n",
      "Class_48     0.606523\n",
      "Class_58     0.613943\n",
      "Class_85     0.614108\n",
      "Class_49     0.614698\n",
      "Class_64     0.618084\n",
      "Class_53     0.619824\n",
      "Class_25     0.620700\n",
      "Class_11     0.622155\n",
      "Class_81     0.626869\n",
      "Class_72     0.628902\n",
      "Class_3      0.637529\n",
      "Class_26     0.645724\n",
      "Class_52     0.648121\n",
      "Class_7      0.654841\n",
      "Class_90     0.666455\n",
      "Class_1      0.666857\n",
      "Class_65     0.667166\n",
      "Class_23     0.670185\n",
      "Class_68     0.671769\n",
      "Class_73     0.672229\n",
      "Class_18     0.673344\n",
      "Class_75     0.675568\n",
      "Class_93     0.675787\n",
      "Class_76     0.677307\n",
      "Class_12     0.685110\n",
      "Class_21     0.687681\n",
      "Class_36     0.689908\n",
      "Class_54     0.694345\n",
      "Class_96     0.700086\n",
      "Class_71     0.704750\n",
      "Class_4      0.709068\n",
      "Class_69     0.709647\n",
      "Class_39     0.715941\n",
      "Class_30     0.718867\n",
      "Class_92     0.720177\n",
      "Class_98     0.724792\n",
      "Class_5      0.727979\n",
      "Class_94     0.736567\n",
      "Class_24     0.737988\n",
      "Class_13     0.739361\n",
      "Class_9      0.741490\n",
      "Class_34     0.744087\n",
      "Class_87     0.746555\n",
      "Class_10     0.749668\n",
      "Class_0      0.750264\n",
      "Class_74     0.752488\n",
      "Class_95     0.753536\n",
      "Class_15     0.762531\n",
      "Class_33     0.765052\n",
      "Class_80     0.765221\n",
      "Class_16     0.770664\n",
      "Class_97     0.772472\n",
      "Class_67     0.775262\n",
      "Class_6      0.775349\n",
      "Class_83     0.781559\n",
      "Class_37     0.785859\n",
      "Class_84     0.785942\n",
      "Class_78     0.789840\n",
      "Class_20     0.791058\n",
      "Class_77     0.796226\n",
      "Class_22     0.798749\n",
      "Class_8      0.799766\n",
      "Class_86     0.801965\n",
      "Class_38     0.814375\n",
      "Class_2      0.819450\n",
      "Class_46     0.824075\n",
      "Class_63     0.942727\n",
      "Class_40     0.990318\n",
      "dtype: float64\n",
      "\n",
      "\n",
      "Retraining\n",
      "\n",
      "Class_56     0.204681\n",
      "Class_59     0.246292\n",
      "Class_27     0.249730\n",
      "Class_62     0.258040\n",
      "Class_61     0.274614\n",
      "Class_55     0.283182\n",
      "Class_19     0.300065\n",
      "Class_57     0.321111\n",
      "Class_60     0.325084\n",
      "Class_50     0.333235\n",
      "Class_70     0.336272\n",
      "Class_82     0.337380\n",
      "Class_100    0.346386\n",
      "Class_91     0.353338\n",
      "Class_88     0.387995\n",
      "Class_25     0.392405\n",
      "Class_45     0.397225\n",
      "Class_51     0.415860\n",
      "Class_41     0.419311\n",
      "Class_42     0.423878\n",
      "Class_75     0.433688\n",
      "Class_17     0.435324\n",
      "Class_29     0.437356\n",
      "Class_48     0.438500\n",
      "Class_69     0.441583\n",
      "Class_47     0.442006\n",
      "Class_32     0.452600\n",
      "Class_44     0.454213\n",
      "Class_53     0.462651\n",
      "Class_14     0.474377\n",
      "Class_99     0.475769\n",
      "Class_80     0.479300\n",
      "Class_89     0.480812\n",
      "Class_66     0.485563\n",
      "Class_28     0.492235\n",
      "Class_35     0.497774\n",
      "Class_79     0.544975\n",
      "Class_71     0.545091\n",
      "Class_52     0.546959\n",
      "Class_18     0.553961\n",
      "Class_43     0.555535\n",
      "Class_58     0.581539\n",
      "Class_31     0.582189\n",
      "Class_93     0.583589\n",
      "Class_30     0.585780\n",
      "Class_3      0.586821\n",
      "Class_49     0.587901\n",
      "Class_85     0.596184\n",
      "Class_36     0.606107\n",
      "Class_15     0.613312\n",
      "Class_64     0.613421\n",
      "Class_76     0.616283\n",
      "Class_10     0.627218\n",
      "Class_68     0.627453\n",
      "Class_21     0.629932\n",
      "Class_26     0.633571\n",
      "Class_5      0.634938\n",
      "Class_54     0.637168\n",
      "Class_11     0.638077\n",
      "Class_65     0.638969\n",
      "Class_90     0.639787\n",
      "Class_94     0.643693\n",
      "Class_6      0.652044\n",
      "Class_4      0.660914\n",
      "Class_12     0.661462\n",
      "Class_24     0.661662\n",
      "Class_96     0.662926\n",
      "Class_67     0.664018\n",
      "Class_78     0.664197\n",
      "Class_81     0.664613\n",
      "Class_92     0.679562\n",
      "Class_98     0.680537\n",
      "Class_73     0.690800\n",
      "Class_13     0.693021\n",
      "Class_39     0.700135\n",
      "Class_7      0.701073\n",
      "Class_74     0.701075\n",
      "Class_77     0.702020\n",
      "Class_23     0.706057\n",
      "Class_9      0.712188\n",
      "Class_72     0.712927\n",
      "Class_63     0.722691\n",
      "Class_20     0.742866\n",
      "Class_33     0.749916\n",
      "Class_95     0.751915\n",
      "Class_0      0.753569\n",
      "Class_1      0.754928\n",
      "Class_37     0.756858\n",
      "Class_86     0.760917\n",
      "Class_22     0.763776\n",
      "Class_84     0.767126\n",
      "Class_87     0.771791\n",
      "Class_2      0.773595\n",
      "Class_83     0.776144\n",
      "Class_16     0.777592\n",
      "Class_97     0.777661\n",
      "Class_38     0.782576\n",
      "Class_8      0.799098\n",
      "Class_34     0.799976\n",
      "Class_46     0.846672\n",
      "Class_40     0.990932\n",
      "dtype: float64\n"
     ]
    }
   ],
   "source": [
    "print(\"Without retraining\\n\")\n",
    "print(logger_ref.get_logs(log_type=\"class\").mean().sort_values())\n",
    "print(\"\\n\\nRetraining\\n\")\n",
    "print(logger_drift.get_logs(log_type=\"class\").mean().sort_values())"
   ]
  },
  {
   "cell_type": "code",
   "execution_count": 47,
   "metadata": {},
   "outputs": [
    {
     "name": "stdout",
     "output_type": "stream",
     "text": [
      "Without retraining\n",
      "\n",
      "SIZE_5            0.085934\n",
      "DIR_3             0.072740\n",
      "SIZE_4            0.068222\n",
      "DIR_7             0.066448\n",
      "SIZE_2            0.066365\n",
      "SIZE_6            0.064702\n",
      "DIR_2             0.060300\n",
      "SIZE_1            0.053321\n",
      "PSIZE_BIN5_REV    0.050660\n",
      "SIZE_3            0.042987\n",
      "PSIZE_BIN4_REV    0.042849\n",
      "DIR_6             0.041624\n",
      "SIZE_19           0.041472\n",
      "SIZE_18           0.039201\n",
      "SIZE_20           0.039141\n",
      "SIZE_17           0.038658\n",
      "SIZE_21           0.037682\n",
      "DIR_10            0.037423\n",
      "SIZE_7            0.037052\n",
      "SIZE_16           0.036607\n",
      "DIR_9             0.035472\n",
      "SIZE_14           0.033454\n",
      "SIZE_22           0.033196\n",
      "SIZE_15           0.032405\n",
      "SIZE_23           0.032242\n",
      "DURATION          0.032163\n",
      "DIR_4             0.030955\n",
      "DIR_8             0.030295\n",
      "IPT_BIN8_REV      0.029562\n",
      "IPT_2             0.028761\n",
      "SIZE_24           0.028434\n",
      "IPT_BIN8          0.028201\n",
      "SIZE_27           0.027997\n",
      "IPT_4             0.027456\n",
      "PSIZE_BIN6_REV    0.027444\n",
      "SIZE_29           0.027342\n",
      "IPT_3             0.027175\n",
      "SIZE_30           0.027046\n",
      "SIZE_25           0.026091\n",
      "SIZE_28           0.025113\n",
      "DIR_5             0.024911\n",
      "PPI_LEN           0.024632\n",
      "PPI_ROUNDTRIPS    0.024386\n",
      "SIZE_26           0.024153\n",
      "IPT_BIN7_REV      0.023919\n",
      "IPT_BIN7          0.023067\n",
      "IPT_BIN4_REV      0.022972\n",
      "IPT_BIN4          0.022622\n",
      "PSIZE_BIN3_REV    0.021453\n",
      "IPT_BIN6          0.021320\n",
      "IPT_BIN2_REV      0.020546\n",
      "DIR_11            0.020396\n",
      "IPT_5             0.020194\n",
      "IPT_BIN6_REV      0.019964\n",
      "IPT_BIN3          0.019964\n",
      "IPT_BIN3_REV      0.019362\n",
      "PPI_DURATION      0.018498\n",
      "PSIZE_BIN6        0.018282\n",
      "IPT_BIN2          0.018061\n",
      "IPT_BIN5          0.017868\n",
      "SIZE_8            0.017292\n",
      "IPT_BIN5_REV      0.016986\n",
      "DIR_12            0.016793\n",
      "DIR_30            0.016585\n",
      "SIZE_13           0.016526\n",
      "PSIZE_BIN7_REV    0.016120\n",
      "SIZE_11           0.015918\n",
      "SIZE_12           0.015813\n",
      "PACKETS_REV       0.015683\n",
      "DIR_28            0.015468\n",
      "IPT_BIN1_REV      0.015420\n",
      "BYTES_REV         0.015218\n",
      "PSIZE_BIN8_REV    0.015145\n",
      "DIR_27            0.015083\n",
      "SIZE_9            0.014796\n",
      "DIR_14            0.014609\n",
      "DIR_29            0.014460\n",
      "PSIZE_BIN3        0.014230\n",
      "DIR_25            0.014187\n",
      "PSIZE_BIN2        0.013951\n",
      "IPT_16            0.013844\n",
      "DIR_24            0.013575\n",
      "IPT_19            0.013010\n",
      "DIR_16            0.012825\n",
      "DIR_23            0.012685\n",
      "SIZE_10           0.012508\n",
      "DIR_26            0.012483\n",
      "IPT_17            0.012474\n",
      "IPT_7             0.012178\n",
      "DIR_15            0.012051\n",
      "DIR_17            0.011550\n",
      "IPT_9             0.011358\n",
      "IPT_22            0.010860\n",
      "PSIZE_BIN5        0.010765\n",
      "DIR_13            0.010460\n",
      "IPT_10            0.010000\n",
      "DIR_22            0.009926\n",
      "IPT_30            0.009809\n",
      "IPT_21            0.009798\n",
      "IPT_8             0.009674\n",
      "IPT_11            0.009620\n",
      "IPT_20            0.009571\n",
      "PSIZE_BIN2_REV    0.009545\n",
      "DIR_21            0.009242\n",
      "IPT_26            0.009131\n",
      "IPT_6             0.008859\n",
      "PSIZE_BIN7        0.008663\n",
      "IPT_12            0.008427\n",
      "IPT_15            0.008424\n",
      "IPT_14            0.008280\n",
      "IPT_18            0.008205\n",
      "PSIZE_BIN4        0.007802\n",
      "DIR_18            0.007667\n",
      "IPT_25            0.007361\n",
      "IPT_29            0.007081\n",
      "PACKETS           0.007047\n",
      "IPT_27            0.006921\n",
      "DIR_19            0.006882\n",
      "IPT_BIN1          0.006780\n",
      "IPT_23            0.006571\n",
      "IPT_28            0.006514\n",
      "DIR_20            0.005940\n",
      "IPT_13            0.005722\n",
      "BYTES             0.005595\n",
      "PSIZE_BIN8        0.005588\n",
      "IPT_24            0.004643\n",
      "IPT_1             0.000000\n",
      "PSIZE_BIN1_REV    0.000000\n",
      "PSIZE_BIN1        0.000000\n",
      "DIR_1             0.000000\n",
      "dtype: float64\n",
      "\n",
      "\n",
      "Retraining\n",
      "\n",
      "SIZE_2            0.056112\n",
      "DIR_2             0.051909\n",
      "SIZE_6            0.046523\n",
      "SIZE_4            0.046241\n",
      "DIR_4             0.043818\n",
      "SIZE_5            0.040798\n",
      "SIZE_3            0.040632\n",
      "DIR_3             0.040211\n",
      "SIZE_1            0.036331\n",
      "IPT_2             0.030383\n",
      "PPI_LEN           0.028357\n",
      "SIZE_7            0.028043\n",
      "PPI_ROUNDTRIPS    0.027615\n",
      "DIR_7             0.026539\n",
      "IPT_5             0.024349\n",
      "IPT_BIN7_REV      0.024118\n",
      "DIR_5             0.023548\n",
      "IPT_BIN7          0.023010\n",
      "IPT_4             0.021906\n",
      "IPT_3             0.021508\n",
      "SIZE_14           0.021027\n",
      "PSIZE_BIN4_REV    0.020925\n",
      "DURATION          0.020739\n",
      "SIZE_15           0.020685\n",
      "DIR_8             0.020621\n",
      "IPT_BIN8_REV      0.020376\n",
      "IPT_BIN6_REV      0.020337\n",
      "SIZE_16           0.020193\n",
      "IPT_BIN8          0.020038\n",
      "IPT_BIN3_REV      0.019598\n",
      "IPT_BIN6          0.019519\n",
      "SIZE_8            0.019456\n",
      "DIR_30            0.019276\n",
      "DIR_29            0.018386\n",
      "IPT_BIN3          0.017848\n",
      "SIZE_9            0.017452\n",
      "DIR_28            0.017209\n",
      "IPT_BIN4_REV      0.017147\n",
      "SIZE_24           0.017140\n",
      "IPT_BIN4          0.017000\n",
      "SIZE_12           0.016743\n",
      "SIZE_23           0.016701\n",
      "SIZE_19           0.016504\n",
      "DIR_25            0.016490\n",
      "DIR_10            0.016459\n",
      "IPT_19            0.016363\n",
      "SIZE_17           0.016270\n",
      "DIR_27            0.016238\n",
      "SIZE_20           0.016183\n",
      "PSIZE_BIN6_REV    0.016084\n",
      "SIZE_21           0.015796\n",
      "SIZE_18           0.015748\n",
      "PPI_DURATION      0.015555\n",
      "DIR_26            0.015454\n",
      "SIZE_29           0.015363\n",
      "DIR_24            0.015345\n",
      "SIZE_22           0.015316\n",
      "PSIZE_BIN5_REV    0.015286\n",
      "PSIZE_BIN6        0.014968\n",
      "SIZE_30           0.014788\n",
      "SIZE_25           0.014598\n",
      "DIR_23            0.014384\n",
      "SIZE_27           0.014113\n",
      "DIR_17            0.014083\n",
      "IPT_BIN5_REV      0.013786\n",
      "SIZE_28           0.013767\n",
      "DIR_14            0.013634\n",
      "DIR_16            0.013519\n",
      "SIZE_26           0.013498\n",
      "IPT_BIN2_REV      0.013363\n",
      "IPT_BIN5          0.013225\n",
      "DIR_22            0.013106\n",
      "SIZE_10           0.012926\n",
      "DIR_15            0.012741\n",
      "SIZE_13           0.012603\n",
      "PSIZE_BIN2        0.012600\n",
      "DIR_6             0.012383\n",
      "DIR_21            0.011945\n",
      "SIZE_11           0.011830\n",
      "PSIZE_BIN3_REV    0.011716\n",
      "IPT_9             0.011542\n",
      "DIR_18            0.011498\n",
      "DIR_9             0.011398\n",
      "IPT_BIN2          0.011305\n",
      "DIR_12            0.011297\n",
      "IPT_8             0.011191\n",
      "DIR_11            0.011156\n",
      "IPT_7             0.011106\n",
      "IPT_6             0.011083\n",
      "DIR_13            0.010865\n",
      "IPT_10            0.010829\n",
      "IPT_11            0.010717\n",
      "PSIZE_BIN5        0.010707\n",
      "IPT_30            0.010530\n",
      "IPT_21            0.010499\n",
      "PSIZE_BIN7_REV    0.010424\n",
      "PACKETS_REV       0.010182\n",
      "IPT_BIN1_REV      0.010090\n",
      "IPT_18            0.010046\n",
      "PSIZE_BIN8_REV    0.009746\n",
      "BYTES_REV         0.009640\n",
      "IPT_20            0.008826\n",
      "PSIZE_BIN3        0.008419\n",
      "IPT_27            0.008386\n",
      "DIR_20            0.008278\n",
      "IPT_25            0.008182\n",
      "PSIZE_BIN2_REV    0.007709\n",
      "IPT_17            0.007272\n",
      "DIR_19            0.006889\n",
      "IPT_29            0.006750\n",
      "IPT_22            0.006708\n",
      "IPT_12            0.006670\n",
      "PACKETS           0.006276\n",
      "IPT_BIN1          0.006179\n",
      "IPT_26            0.006148\n",
      "IPT_23            0.005968\n",
      "IPT_28            0.005796\n",
      "IPT_15            0.005631\n",
      "IPT_16            0.005545\n",
      "IPT_14            0.005537\n",
      "PSIZE_BIN7        0.005226\n",
      "IPT_13            0.005195\n",
      "PSIZE_BIN4        0.004841\n",
      "IPT_24            0.004827\n",
      "BYTES             0.004726\n",
      "PSIZE_BIN8        0.004677\n",
      "IPT_1             0.000000\n",
      "PSIZE_BIN1_REV    0.000000\n",
      "DIR_1             0.000000\n",
      "PSIZE_BIN1        0.000000\n",
      "dtype: float64\n"
     ]
    }
   ],
   "source": [
    "print(\"Without retraining\\n\")\n",
    "print(logger_ref.get_logs(log_type=\"feature\").mean().sort_values(ascending=False))\n",
    "print(\"\\n\\nRetraining\\n\")\n",
    "print(logger_drift.get_logs(log_type=\"feature\").mean().sort_values(ascending=False))"
   ]
  },
  {
   "cell_type": "code",
   "execution_count": 40,
   "metadata": {},
   "outputs": [],
   "source": []
  },
  {
   "cell_type": "code",
   "execution_count": 48,
   "metadata": {},
   "outputs": [
    {
     "data": {
      "image/png": "[encoded data removed]",
      "text/plain": [
       "<Figure size 640x480 with 1 Axes>"
      ]
     },
     "metadata": {},
     "output_type": "display_data"
    }
   ],
   "source": [
    "plt.plot(logger_ref.get_logs(log_type=\"feature\").DIR_4, label = \"Without retraining\")\n",
    "plt.plot(logger_drift.get_logs(log_type=\"feature\").DIR_4, label = \"Retraining\")\n",
    "plt.legend()\n",
    "plt.show()"
   ]
  },
  {
   "cell_type": "markdown",
   "metadata": {},
   "source": [
    "# Drift Classification"
   ]
  },
  {
   "cell_type": "code",
   "execution_count": 49,
   "metadata": {},
   "outputs": [
    {
     "data": {
      "text/html": [
       "<div>\n",
       "<style scoped>\n",
       "    .dataframe tbody tr th:only-of-type {\n",
       "        vertical-align: middle;\n",
       "    }\n",
       "\n",
       "    .dataframe tbody tr th {\n",
       "        vertical-align: top;\n",
       "    }\n",
       "\n",
       "    .dataframe thead th {\n",
       "        text-align: right;\n",
       "    }\n",
       "</style>\n",
       "<table border=\"1\" class=\"dataframe\">\n",
       "  <thead>\n",
       "    <tr style=\"text-align: right;\">\n",
       "      <th></th>\n",
       "      <th>is_drifted</th>\n",
       "      <th>drift_strength</th>\n",
       "      <th>share_drifted_features</th>\n",
       "      <th>Drift_type</th>\n",
       "      <th>f1</th>\n",
       "    </tr>\n",
       "  </thead>\n",
       "  <tbody>\n",
       "    <tr>\n",
       "      <th>2022-11-07</th>\n",
       "      <td>False</td>\n",
       "      <td>0.022076</td>\n",
       "      <td>0.000000</td>\n",
       "      <td>Unknown_drift</td>\n",
       "      <td>0.792457</td>\n",
       "    </tr>\n",
       "    <tr>\n",
       "      <th>2022-11-08</th>\n",
       "      <td>False</td>\n",
       "      <td>0.021070</td>\n",
       "      <td>0.000000</td>\n",
       "      <td>Unknown_drift</td>\n",
       "      <td>0.764893</td>\n",
       "    </tr>\n",
       "    <tr>\n",
       "      <th>2022-11-09</th>\n",
       "      <td>False</td>\n",
       "      <td>0.026549</td>\n",
       "      <td>0.000000</td>\n",
       "      <td>Unknown_drift</td>\n",
       "      <td>0.744305</td>\n",
       "    </tr>\n",
       "    <tr>\n",
       "      <th>2022-11-10</th>\n",
       "      <td>False</td>\n",
       "      <td>0.026592</td>\n",
       "      <td>0.000000</td>\n",
       "      <td>Unknown_drift</td>\n",
       "      <td>0.714959</td>\n",
       "    </tr>\n",
       "    <tr>\n",
       "      <th>2022-11-11</th>\n",
       "      <td>False</td>\n",
       "      <td>0.033355</td>\n",
       "      <td>0.007692</td>\n",
       "      <td>Unknown_drift</td>\n",
       "      <td>0.683083</td>\n",
       "    </tr>\n",
       "    <tr>\n",
       "      <th>2022-11-12</th>\n",
       "      <td>True</td>\n",
       "      <td>0.043839</td>\n",
       "      <td>0.023077</td>\n",
       "      <td>Unknown_drift</td>\n",
       "      <td>0.718061</td>\n",
       "    </tr>\n",
       "    <tr>\n",
       "      <th>2022-11-13</th>\n",
       "      <td>False</td>\n",
       "      <td>0.010694</td>\n",
       "      <td>0.000000</td>\n",
       "      <td>Unknown_drift</td>\n",
       "      <td>0.854220</td>\n",
       "    </tr>\n",
       "    <tr>\n",
       "      <th>2022-11-14</th>\n",
       "      <td>False</td>\n",
       "      <td>0.034859</td>\n",
       "      <td>0.007692</td>\n",
       "      <td>No_drift</td>\n",
       "      <td>0.811555</td>\n",
       "    </tr>\n",
       "    <tr>\n",
       "      <th>2022-11-15</th>\n",
       "      <td>False</td>\n",
       "      <td>0.034259</td>\n",
       "      <td>0.015385</td>\n",
       "      <td>No_drift</td>\n",
       "      <td>0.817084</td>\n",
       "    </tr>\n",
       "    <tr>\n",
       "      <th>2022-11-16</th>\n",
       "      <td>False</td>\n",
       "      <td>0.034922</td>\n",
       "      <td>0.015385</td>\n",
       "      <td>No_drift</td>\n",
       "      <td>0.812898</td>\n",
       "    </tr>\n",
       "    <tr>\n",
       "      <th>2022-11-17</th>\n",
       "      <td>False</td>\n",
       "      <td>0.007493</td>\n",
       "      <td>0.000000</td>\n",
       "      <td>No_drift</td>\n",
       "      <td>0.849725</td>\n",
       "    </tr>\n",
       "    <tr>\n",
       "      <th>2022-11-18</th>\n",
       "      <td>False</td>\n",
       "      <td>0.019631</td>\n",
       "      <td>0.000000</td>\n",
       "      <td>No_drift</td>\n",
       "      <td>0.820716</td>\n",
       "    </tr>\n",
       "    <tr>\n",
       "      <th>2022-11-19</th>\n",
       "      <td>False</td>\n",
       "      <td>0.011523</td>\n",
       "      <td>0.000000</td>\n",
       "      <td>No_drift</td>\n",
       "      <td>0.844033</td>\n",
       "    </tr>\n",
       "    <tr>\n",
       "      <th>2022-11-20</th>\n",
       "      <td>False</td>\n",
       "      <td>0.011893</td>\n",
       "      <td>0.000000</td>\n",
       "      <td>No_drift</td>\n",
       "      <td>0.836615</td>\n",
       "    </tr>\n",
       "    <tr>\n",
       "      <th>2022-11-21</th>\n",
       "      <td>False</td>\n",
       "      <td>0.033939</td>\n",
       "      <td>0.000000</td>\n",
       "      <td>No_drift</td>\n",
       "      <td>0.799278</td>\n",
       "    </tr>\n",
       "    <tr>\n",
       "      <th>2022-11-22</th>\n",
       "      <td>False</td>\n",
       "      <td>0.032833</td>\n",
       "      <td>0.007692</td>\n",
       "      <td>No_drift</td>\n",
       "      <td>0.799140</td>\n",
       "    </tr>\n",
       "    <tr>\n",
       "      <th>2022-11-23</th>\n",
       "      <td>False</td>\n",
       "      <td>0.032874</td>\n",
       "      <td>0.007692</td>\n",
       "      <td>No_drift</td>\n",
       "      <td>0.799914</td>\n",
       "    </tr>\n",
       "    <tr>\n",
       "      <th>2022-11-24</th>\n",
       "      <td>False</td>\n",
       "      <td>0.034201</td>\n",
       "      <td>0.015385</td>\n",
       "      <td>No_drift</td>\n",
       "      <td>0.802900</td>\n",
       "    </tr>\n",
       "    <tr>\n",
       "      <th>2022-11-25</th>\n",
       "      <td>False</td>\n",
       "      <td>0.029054</td>\n",
       "      <td>0.000000</td>\n",
       "      <td>No_drift</td>\n",
       "      <td>0.810282</td>\n",
       "    </tr>\n",
       "    <tr>\n",
       "      <th>2022-11-26</th>\n",
       "      <td>False</td>\n",
       "      <td>0.008374</td>\n",
       "      <td>0.000000</td>\n",
       "      <td>No_drift</td>\n",
       "      <td>0.842774</td>\n",
       "    </tr>\n",
       "    <tr>\n",
       "      <th>2022-11-27</th>\n",
       "      <td>False</td>\n",
       "      <td>0.009450</td>\n",
       "      <td>0.000000</td>\n",
       "      <td>No_drift</td>\n",
       "      <td>0.835551</td>\n",
       "    </tr>\n",
       "  </tbody>\n",
       "</table>\n",
       "</div>"
      ],
      "text/plain": [
       "            is_drifted  drift_strength  share_drifted_features     Drift_type  \\\n",
       "2022-11-07       False        0.022076                0.000000  Unknown_drift   \n",
       "2022-11-08       False        0.021070                0.000000  Unknown_drift   \n",
       "2022-11-09       False        0.026549                0.000000  Unknown_drift   \n",
       "2022-11-10       False        0.026592                0.000000  Unknown_drift   \n",
       "2022-11-11       False        0.033355                0.007692  Unknown_drift   \n",
       "2022-11-12        True        0.043839                0.023077  Unknown_drift   \n",
       "2022-11-13       False        0.010694                0.000000  Unknown_drift   \n",
       "2022-11-14       False        0.034859                0.007692       No_drift   \n",
       "2022-11-15       False        0.034259                0.015385       No_drift   \n",
       "2022-11-16       False        0.034922                0.015385       No_drift   \n",
       "2022-11-17       False        0.007493                0.000000       No_drift   \n",
       "2022-11-18       False        0.019631                0.000000       No_drift   \n",
       "2022-11-19       False        0.011523                0.000000       No_drift   \n",
       "2022-11-20       False        0.011893                0.000000       No_drift   \n",
       "2022-11-21       False        0.033939                0.000000       No_drift   \n",
       "2022-11-22       False        0.032833                0.007692       No_drift   \n",
       "2022-11-23       False        0.032874                0.007692       No_drift   \n",
       "2022-11-24       False        0.034201                0.015385       No_drift   \n",
       "2022-11-25       False        0.029054                0.000000       No_drift   \n",
       "2022-11-26       False        0.008374                0.000000       No_drift   \n",
       "2022-11-27       False        0.009450                0.000000       No_drift   \n",
       "\n",
       "                  f1  \n",
       "2022-11-07  0.792457  \n",
       "2022-11-08  0.764893  \n",
       "2022-11-09  0.744305  \n",
       "2022-11-10  0.714959  \n",
       "2022-11-11  0.683083  \n",
       "2022-11-12  0.718061  \n",
       "2022-11-13  0.854220  \n",
       "2022-11-14  0.811555  \n",
       "2022-11-15  0.817084  \n",
       "2022-11-16  0.812898  \n",
       "2022-11-17  0.849725  \n",
       "2022-11-18  0.820716  \n",
       "2022-11-19  0.844033  \n",
       "2022-11-20  0.836615  \n",
       "2022-11-21  0.799278  \n",
       "2022-11-22  0.799140  \n",
       "2022-11-23  0.799914  \n",
       "2022-11-24  0.802900  \n",
       "2022-11-25  0.810282  \n",
       "2022-11-26  0.842774  \n",
       "2022-11-27  0.835551  "
      ]
     },
     "execution_count": 49,
     "metadata": {},
     "output_type": "execute_result"
    }
   ],
   "source": [
    "# TODO aktualni drift type neni idealni, protoze hlasi typ driftu i v pripade, ze se drift nestal\n",
    "logger_drift.get_logs()"
   ]
  },
  {
   "cell_type": "code",
   "execution_count": 50,
   "metadata": {},
   "outputs": [],
   "source": [
    "#idx_drift = logger_drift.get_logs()[logger_drift.get_logs()[\"is_drifted\"] == True].index\n",
    "logs = logger_drift.get_logs()"
   ]
  },
  {
   "cell_type": "code",
   "execution_count": 51,
   "metadata": {},
   "outputs": [
    {
     "name": "stdout",
     "output_type": "stream",
     "text": [
      "=== Detection === 2022-11-12 00:00:00\n",
      "Improved - original 0.7180607682080387 previous 0.6830826515066439\n"
     ]
    }
   ],
   "source": [
    "# Detector #1 - F1 improve (Positive / Negative drift)\n",
    "# TODO consider to extent the \"previous\" window\n",
    "prev = None\n",
    "for idx in logs.index:\n",
    "    #print(idx)\n",
    "    if prev is None:\n",
    "        prev = logs.loc[idx]\n",
    "        continue\n",
    "    if logs.loc[idx][\"is_drifted\"] == True:\n",
    "        print(\"=== Detection ===\",idx)\n",
    "        if abs(logs.loc[idx][\"f1\"] - prev[\"f1\"]) > 0.05:\n",
    "            print(\"significant diff\")\n",
    "        if logs.loc[idx][\"f1\"] < prev[\"f1\"]:\n",
    "            print(\"Not improved - original\",logs.loc[idx][\"f1\"],\"previous\", prev[\"f1\"])\n",
    "        else:\n",
    "            print(\"Improved - original\",logs.loc[idx][\"f1\"],\"previous\",prev[\"f1\"])\n",
    "    prev = logs.loc[idx]"
   ]
  },
  {
   "cell_type": "code",
   "execution_count": 52,
   "metadata": {},
   "outputs": [],
   "source": [
    "#2 Compare with last drift -> detect trend in f1 score\n",
    "prev_drift_idx = None\n",
    "for idx in logs.index:\n",
    "    if logs.loc[idx][\"is_drifted\"] == True:\n",
    "        if prev_drift_idx == None:\n",
    "            prev_drift_idx = idx\n",
    "            continue\n",
    "        # Compare currect prev f1 score with last drift\n",
    "        logs.loc[idx]"
   ]
  },
  {
   "cell_type": "code",
   "execution_count": 53,
   "metadata": {},
   "outputs": [],
   "source": [
    "# Repeated drifts\n",
    "for idx in logs.index:\n",
    "    if logs.loc[idx][\"is_drifted\"] == True:\n",
    "        try:\n",
    "            if (logs.loc[idx - timedelta(days=1)][\"is_drifted\"] == True):# or (logs.loc[idx - timedelta(days=2)][\"is_drifted\"] == True) or (logs.loc[idx - timedelta(days=3)][\"is_drifted\"] == True):\n",
    "                print(\"repeated drift\",idx)\n",
    "        except Exception as e:\n",
    "            print(\"missing previous date for\", idx)\n",
    "        "
   ]
  },
  {
   "cell_type": "code",
   "execution_count": null,
   "metadata": {},
   "outputs": [],
   "source": [
    "#3 Periodic?? (drift / drift severity)"
   ]
  },
  {
   "cell_type": "code",
   "execution_count": null,
   "metadata": {},
   "outputs": [],
   "source": [
    "#4 Class change -> TODO potrebujeme rozsirit log o tridy"
   ]
  },
  {
   "cell_type": "code",
   "execution_count": null,
   "metadata": {},
   "outputs": [],
   "source": [
    "#5 temporary drift - zbytecne pro nas use case? ale teoreticky ho muzeme vest "
   ]
  },
  {
   "cell_type": "code",
   "execution_count": null,
   "metadata": {},
   "outputs": [],
   "source": [
    "#6 sudden drift"
   ]
  },
  {
   "cell_type": "code",
   "execution_count": null,
   "metadata": {},
   "outputs": [],
   "source": [
    "#7 unknown"
   ]
  },
  {
   "cell_type": "code",
   "execution_count": null,
   "metadata": {},
   "outputs": [],
   "source": []
  },
  {
   "cell_type": "code",
   "execution_count": null,
   "metadata": {},
   "outputs": [],
   "source": []
  }
 ],
 "metadata": {
  "kernelspec": {
   "display_name": "Python 3 (ipykernel)",
   "language": "python",
   "name": "python3"
  },
  "language_info": {
   "codemirror_mode": {
    "name": "ipython",
    "version": 3
   },
   "file_extension": ".py",
   "mimetype": "text/x-python",
   "name": "python",
   "nbconvert_exporter": "python",
   "pygments_lexer": "ipython3",
   "version": "3.11.9"
  }
 },
 "nbformat": 4,
 "nbformat_minor": 4
}
